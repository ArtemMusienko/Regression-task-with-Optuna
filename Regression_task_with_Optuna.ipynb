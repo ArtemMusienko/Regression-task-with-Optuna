{
  "nbformat": 4,
  "nbformat_minor": 0,
  "metadata": {
    "colab": {
      "provenance": [],
      "gpuType": "T4"
    },
    "kernelspec": {
      "name": "python3",
      "display_name": "Python 3"
    },
    "language_info": {
      "name": "python"
    },
    "accelerator": "GPU"
  },
  "cells": [
    {
      "cell_type": "markdown",
      "source": [
        "## Решение задачи"
      ],
      "metadata": {
        "id": "hbT6t0Yq9dB-"
      }
    },
    {
      "cell_type": "markdown",
      "source": [
        "Установим Optuna, которая автоматизирует настройку гиперпараметров:"
      ],
      "metadata": {
        "id": "Xq5UrOhoeyCA"
      }
    },
    {
      "cell_type": "code",
      "source": [
        "!pip install optuna"
      ],
      "metadata": {
        "colab": {
          "base_uri": "https://localhost:8080/"
        },
        "id": "omMH-potXbgI",
        "outputId": "9645b119-5b15-4903-95d7-86afbf8731ec"
      },
      "execution_count": null,
      "outputs": [
        {
          "output_type": "stream",
          "name": "stdout",
          "text": [
            "Requirement already satisfied: optuna in /usr/local/lib/python3.11/dist-packages (4.3.0)\n",
            "Requirement already satisfied: alembic>=1.5.0 in /usr/local/lib/python3.11/dist-packages (from optuna) (1.16.1)\n",
            "Requirement already satisfied: colorlog in /usr/local/lib/python3.11/dist-packages (from optuna) (6.9.0)\n",
            "Requirement already satisfied: numpy in /usr/local/lib/python3.11/dist-packages (from optuna) (2.0.2)\n",
            "Requirement already satisfied: packaging>=20.0 in /usr/local/lib/python3.11/dist-packages (from optuna) (24.2)\n",
            "Requirement already satisfied: sqlalchemy>=1.4.2 in /usr/local/lib/python3.11/dist-packages (from optuna) (2.0.40)\n",
            "Requirement already satisfied: tqdm in /usr/local/lib/python3.11/dist-packages (from optuna) (4.67.1)\n",
            "Requirement already satisfied: PyYAML in /usr/local/lib/python3.11/dist-packages (from optuna) (6.0.2)\n",
            "Requirement already satisfied: Mako in /usr/lib/python3/dist-packages (from alembic>=1.5.0->optuna) (1.1.3)\n",
            "Requirement already satisfied: typing-extensions>=4.12 in /usr/local/lib/python3.11/dist-packages (from alembic>=1.5.0->optuna) (4.13.2)\n",
            "Requirement already satisfied: greenlet>=1 in /usr/local/lib/python3.11/dist-packages (from sqlalchemy>=1.4.2->optuna) (3.2.2)\n"
          ]
        }
      ]
    },
    {
      "cell_type": "markdown",
      "source": [
        "Импортируем необходимые библиотеки:"
      ],
      "metadata": {
        "id": "hpgIUvtr9XQU"
      }
    },
    {
      "cell_type": "code",
      "source": [
        "import numpy as np\n",
        "import pandas as pd\n",
        "from keras import utils\n",
        "from keras.models import Sequential, Model\n",
        "from keras.layers import Dense, Dropout, Input, BatchNormalization\n",
        "from keras.optimizers import Adam\n",
        "from keras.regularizers import l2\n",
        "from keras.callbacks import EarlyStopping, ReduceLROnPlateau\n",
        "from sklearn.preprocessing import StandardScaler\n",
        "from keras.regularizers import l1, l2, l1_l2\n",
        "from keras.activations import relu, elu, selu, tanh\n",
        "import re\n",
        "import matplotlib.pyplot as plt\n",
        "from sklearn.metrics import mean_squared_error, mean_absolute_error\n",
        "import optuna\n",
        "from sklearn.model_selection import train_test_split\n",
        "\n",
        "%matplotlib inline"
      ],
      "metadata": {
        "id": "9CIqAFlM9JXG"
      },
      "execution_count": null,
      "outputs": []
    },
    {
      "cell_type": "markdown",
      "source": [
        "Скачаем необходимый датасет для решения задачи:"
      ],
      "metadata": {
        "id": "sZWsZsES9hu2"
      }
    },
    {
      "cell_type": "code",
      "source": [
        "!wget https://storage.yandexcloud.net/academy.ai/japan_cars_dataset.csv"
      ],
      "metadata": {
        "colab": {
          "base_uri": "https://localhost:8080/"
        },
        "id": "BDCOnE5A7XiG",
        "outputId": "9e5190ea-451d-4afd-ffb2-efe9ed899ed7"
      },
      "execution_count": null,
      "outputs": [
        {
          "output_type": "stream",
          "name": "stdout",
          "text": [
            "--2025-05-22 09:50:24--  https://storage.yandexcloud.net/academy.ai/japan_cars_dataset.csv\n",
            "Resolving storage.yandexcloud.net (storage.yandexcloud.net)... 213.180.193.243, 2a02:6b8::1d9\n",
            "Connecting to storage.yandexcloud.net (storage.yandexcloud.net)|213.180.193.243|:443... connected.\n",
            "HTTP request sent, awaiting response... 200 OK\n",
            "Length: 136735 (134K) [text/csv]\n",
            "Saving to: ‘japan_cars_dataset.csv.2’\n",
            "\n",
            "japan_cars_dataset. 100%[===================>] 133.53K   236KB/s    in 0.6s    \n",
            "\n",
            "2025-05-22 09:50:26 (236 KB/s) - ‘japan_cars_dataset.csv.2’ saved [136735/136735]\n",
            "\n"
          ]
        }
      ]
    },
    {
      "cell_type": "markdown",
      "source": [
        "Выведем в виде таблицы наш датасет, а также удалим строки с пустыми значениями и дубликаты:"
      ],
      "metadata": {
        "id": "NNsHNEl2_iAu"
      }
    },
    {
      "cell_type": "code",
      "source": [
        "df = pd.read_csv('japan_cars_dataset.csv', on_bad_lines='skip', low_memory=False, sep=',')\n",
        "df = df.dropna() #удаление строк с пустыми значениями\n",
        "df = df.drop_duplicates() #удаляем дубликаты\n",
        "df.head(10)"
      ],
      "metadata": {
        "colab": {
          "base_uri": "https://localhost:8080/",
          "height": 363
        },
        "id": "NS_vFnv17mjE",
        "outputId": "c25a39cc-7ac2-45cc-afec-2ae3042e1d97"
      },
      "execution_count": null,
      "outputs": [
        {
          "output_type": "execute_result",
          "data": {
            "text/plain": [
              "   Unnamed: 0  price        mark      model  year  mileage  engine_capacity  \\\n",
              "0           0     80      nissan      march  2003    80000             1240   \n",
              "1           1    110      nissan      march  2010    53000             1200   \n",
              "2           2    165      nissan    lafesta  2005    47690             2000   \n",
              "3           3    190      toyota    avensis  2008   130661             1990   \n",
              "4           4    190    daihatsu       mira  2006    66300              660   \n",
              "5           5    190    daihatsu       mira  2004    81400              660   \n",
              "6           8    220      nissan      march  2010   117000             1200   \n",
              "7           9    230  volkswagen     passat  2008   127763             3190   \n",
              "8          10    275       mazda  bongo van  2010   178218             1800   \n",
              "9          11    283       honda   step wgn  2005   121655             2000   \n",
              "\n",
              "  transmission drive hand_drive      fuel  \n",
              "0           at   2wd        rhd  gasoline  \n",
              "1           at   2wd        rhd  gasoline  \n",
              "2           at   2wd        rhd  gasoline  \n",
              "3           at   2wd        rhd  gasoline  \n",
              "4           at   2wd        rhd  gasoline  \n",
              "5           at   2wd        rhd  gasoline  \n",
              "6           at   2wd        rhd  gasoline  \n",
              "7           at   4wd        rhd  gasoline  \n",
              "8           mt   2wd        rhd  gasoline  \n",
              "9           at   2wd        rhd  gasoline  "
            ],
            "text/html": [
              "\n",
              "  <div id=\"df-230d0b22-9d41-4bfe-926a-b8137b121589\" class=\"colab-df-container\">\n",
              "    <div>\n",
              "<style scoped>\n",
              "    .dataframe tbody tr th:only-of-type {\n",
              "        vertical-align: middle;\n",
              "    }\n",
              "\n",
              "    .dataframe tbody tr th {\n",
              "        vertical-align: top;\n",
              "    }\n",
              "\n",
              "    .dataframe thead th {\n",
              "        text-align: right;\n",
              "    }\n",
              "</style>\n",
              "<table border=\"1\" class=\"dataframe\">\n",
              "  <thead>\n",
              "    <tr style=\"text-align: right;\">\n",
              "      <th></th>\n",
              "      <th>Unnamed: 0</th>\n",
              "      <th>price</th>\n",
              "      <th>mark</th>\n",
              "      <th>model</th>\n",
              "      <th>year</th>\n",
              "      <th>mileage</th>\n",
              "      <th>engine_capacity</th>\n",
              "      <th>transmission</th>\n",
              "      <th>drive</th>\n",
              "      <th>hand_drive</th>\n",
              "      <th>fuel</th>\n",
              "    </tr>\n",
              "  </thead>\n",
              "  <tbody>\n",
              "    <tr>\n",
              "      <th>0</th>\n",
              "      <td>0</td>\n",
              "      <td>80</td>\n",
              "      <td>nissan</td>\n",
              "      <td>march</td>\n",
              "      <td>2003</td>\n",
              "      <td>80000</td>\n",
              "      <td>1240</td>\n",
              "      <td>at</td>\n",
              "      <td>2wd</td>\n",
              "      <td>rhd</td>\n",
              "      <td>gasoline</td>\n",
              "    </tr>\n",
              "    <tr>\n",
              "      <th>1</th>\n",
              "      <td>1</td>\n",
              "      <td>110</td>\n",
              "      <td>nissan</td>\n",
              "      <td>march</td>\n",
              "      <td>2010</td>\n",
              "      <td>53000</td>\n",
              "      <td>1200</td>\n",
              "      <td>at</td>\n",
              "      <td>2wd</td>\n",
              "      <td>rhd</td>\n",
              "      <td>gasoline</td>\n",
              "    </tr>\n",
              "    <tr>\n",
              "      <th>2</th>\n",
              "      <td>2</td>\n",
              "      <td>165</td>\n",
              "      <td>nissan</td>\n",
              "      <td>lafesta</td>\n",
              "      <td>2005</td>\n",
              "      <td>47690</td>\n",
              "      <td>2000</td>\n",
              "      <td>at</td>\n",
              "      <td>2wd</td>\n",
              "      <td>rhd</td>\n",
              "      <td>gasoline</td>\n",
              "    </tr>\n",
              "    <tr>\n",
              "      <th>3</th>\n",
              "      <td>3</td>\n",
              "      <td>190</td>\n",
              "      <td>toyota</td>\n",
              "      <td>avensis</td>\n",
              "      <td>2008</td>\n",
              "      <td>130661</td>\n",
              "      <td>1990</td>\n",
              "      <td>at</td>\n",
              "      <td>2wd</td>\n",
              "      <td>rhd</td>\n",
              "      <td>gasoline</td>\n",
              "    </tr>\n",
              "    <tr>\n",
              "      <th>4</th>\n",
              "      <td>4</td>\n",
              "      <td>190</td>\n",
              "      <td>daihatsu</td>\n",
              "      <td>mira</td>\n",
              "      <td>2006</td>\n",
              "      <td>66300</td>\n",
              "      <td>660</td>\n",
              "      <td>at</td>\n",
              "      <td>2wd</td>\n",
              "      <td>rhd</td>\n",
              "      <td>gasoline</td>\n",
              "    </tr>\n",
              "    <tr>\n",
              "      <th>5</th>\n",
              "      <td>5</td>\n",
              "      <td>190</td>\n",
              "      <td>daihatsu</td>\n",
              "      <td>mira</td>\n",
              "      <td>2004</td>\n",
              "      <td>81400</td>\n",
              "      <td>660</td>\n",
              "      <td>at</td>\n",
              "      <td>2wd</td>\n",
              "      <td>rhd</td>\n",
              "      <td>gasoline</td>\n",
              "    </tr>\n",
              "    <tr>\n",
              "      <th>6</th>\n",
              "      <td>8</td>\n",
              "      <td>220</td>\n",
              "      <td>nissan</td>\n",
              "      <td>march</td>\n",
              "      <td>2010</td>\n",
              "      <td>117000</td>\n",
              "      <td>1200</td>\n",
              "      <td>at</td>\n",
              "      <td>2wd</td>\n",
              "      <td>rhd</td>\n",
              "      <td>gasoline</td>\n",
              "    </tr>\n",
              "    <tr>\n",
              "      <th>7</th>\n",
              "      <td>9</td>\n",
              "      <td>230</td>\n",
              "      <td>volkswagen</td>\n",
              "      <td>passat</td>\n",
              "      <td>2008</td>\n",
              "      <td>127763</td>\n",
              "      <td>3190</td>\n",
              "      <td>at</td>\n",
              "      <td>4wd</td>\n",
              "      <td>rhd</td>\n",
              "      <td>gasoline</td>\n",
              "    </tr>\n",
              "    <tr>\n",
              "      <th>8</th>\n",
              "      <td>10</td>\n",
              "      <td>275</td>\n",
              "      <td>mazda</td>\n",
              "      <td>bongo van</td>\n",
              "      <td>2010</td>\n",
              "      <td>178218</td>\n",
              "      <td>1800</td>\n",
              "      <td>mt</td>\n",
              "      <td>2wd</td>\n",
              "      <td>rhd</td>\n",
              "      <td>gasoline</td>\n",
              "    </tr>\n",
              "    <tr>\n",
              "      <th>9</th>\n",
              "      <td>11</td>\n",
              "      <td>283</td>\n",
              "      <td>honda</td>\n",
              "      <td>step wgn</td>\n",
              "      <td>2005</td>\n",
              "      <td>121655</td>\n",
              "      <td>2000</td>\n",
              "      <td>at</td>\n",
              "      <td>2wd</td>\n",
              "      <td>rhd</td>\n",
              "      <td>gasoline</td>\n",
              "    </tr>\n",
              "  </tbody>\n",
              "</table>\n",
              "</div>\n",
              "    <div class=\"colab-df-buttons\">\n",
              "\n",
              "  <div class=\"colab-df-container\">\n",
              "    <button class=\"colab-df-convert\" onclick=\"convertToInteractive('df-230d0b22-9d41-4bfe-926a-b8137b121589')\"\n",
              "            title=\"Convert this dataframe to an interactive table.\"\n",
              "            style=\"display:none;\">\n",
              "\n",
              "  <svg xmlns=\"http://www.w3.org/2000/svg\" height=\"24px\" viewBox=\"0 -960 960 960\">\n",
              "    <path d=\"M120-120v-720h720v720H120Zm60-500h600v-160H180v160Zm220 220h160v-160H400v160Zm0 220h160v-160H400v160ZM180-400h160v-160H180v160Zm440 0h160v-160H620v160ZM180-180h160v-160H180v160Zm440 0h160v-160H620v160Z\"/>\n",
              "  </svg>\n",
              "    </button>\n",
              "\n",
              "  <style>\n",
              "    .colab-df-container {\n",
              "      display:flex;\n",
              "      gap: 12px;\n",
              "    }\n",
              "\n",
              "    .colab-df-convert {\n",
              "      background-color: #E8F0FE;\n",
              "      border: none;\n",
              "      border-radius: 50%;\n",
              "      cursor: pointer;\n",
              "      display: none;\n",
              "      fill: #1967D2;\n",
              "      height: 32px;\n",
              "      padding: 0 0 0 0;\n",
              "      width: 32px;\n",
              "    }\n",
              "\n",
              "    .colab-df-convert:hover {\n",
              "      background-color: #E2EBFA;\n",
              "      box-shadow: 0px 1px 2px rgba(60, 64, 67, 0.3), 0px 1px 3px 1px rgba(60, 64, 67, 0.15);\n",
              "      fill: #174EA6;\n",
              "    }\n",
              "\n",
              "    .colab-df-buttons div {\n",
              "      margin-bottom: 4px;\n",
              "    }\n",
              "\n",
              "    [theme=dark] .colab-df-convert {\n",
              "      background-color: #3B4455;\n",
              "      fill: #D2E3FC;\n",
              "    }\n",
              "\n",
              "    [theme=dark] .colab-df-convert:hover {\n",
              "      background-color: #434B5C;\n",
              "      box-shadow: 0px 1px 3px 1px rgba(0, 0, 0, 0.15);\n",
              "      filter: drop-shadow(0px 1px 2px rgba(0, 0, 0, 0.3));\n",
              "      fill: #FFFFFF;\n",
              "    }\n",
              "  </style>\n",
              "\n",
              "    <script>\n",
              "      const buttonEl =\n",
              "        document.querySelector('#df-230d0b22-9d41-4bfe-926a-b8137b121589 button.colab-df-convert');\n",
              "      buttonEl.style.display =\n",
              "        google.colab.kernel.accessAllowed ? 'block' : 'none';\n",
              "\n",
              "      async function convertToInteractive(key) {\n",
              "        const element = document.querySelector('#df-230d0b22-9d41-4bfe-926a-b8137b121589');\n",
              "        const dataTable =\n",
              "          await google.colab.kernel.invokeFunction('convertToInteractive',\n",
              "                                                    [key], {});\n",
              "        if (!dataTable) return;\n",
              "\n",
              "        const docLinkHtml = 'Like what you see? Visit the ' +\n",
              "          '<a target=\"_blank\" href=https://colab.research.google.com/notebooks/data_table.ipynb>data table notebook</a>'\n",
              "          + ' to learn more about interactive tables.';\n",
              "        element.innerHTML = '';\n",
              "        dataTable['output_type'] = 'display_data';\n",
              "        await google.colab.output.renderOutput(dataTable, element);\n",
              "        const docLink = document.createElement('div');\n",
              "        docLink.innerHTML = docLinkHtml;\n",
              "        element.appendChild(docLink);\n",
              "      }\n",
              "    </script>\n",
              "  </div>\n",
              "\n",
              "\n",
              "    <div id=\"df-c86ea72e-96b7-4716-8f99-67d6d97d7977\">\n",
              "      <button class=\"colab-df-quickchart\" onclick=\"quickchart('df-c86ea72e-96b7-4716-8f99-67d6d97d7977')\"\n",
              "                title=\"Suggest charts\"\n",
              "                style=\"display:none;\">\n",
              "\n",
              "<svg xmlns=\"http://www.w3.org/2000/svg\" height=\"24px\"viewBox=\"0 0 24 24\"\n",
              "     width=\"24px\">\n",
              "    <g>\n",
              "        <path d=\"M19 3H5c-1.1 0-2 .9-2 2v14c0 1.1.9 2 2 2h14c1.1 0 2-.9 2-2V5c0-1.1-.9-2-2-2zM9 17H7v-7h2v7zm4 0h-2V7h2v10zm4 0h-2v-4h2v4z\"/>\n",
              "    </g>\n",
              "</svg>\n",
              "      </button>\n",
              "\n",
              "<style>\n",
              "  .colab-df-quickchart {\n",
              "      --bg-color: #E8F0FE;\n",
              "      --fill-color: #1967D2;\n",
              "      --hover-bg-color: #E2EBFA;\n",
              "      --hover-fill-color: #174EA6;\n",
              "      --disabled-fill-color: #AAA;\n",
              "      --disabled-bg-color: #DDD;\n",
              "  }\n",
              "\n",
              "  [theme=dark] .colab-df-quickchart {\n",
              "      --bg-color: #3B4455;\n",
              "      --fill-color: #D2E3FC;\n",
              "      --hover-bg-color: #434B5C;\n",
              "      --hover-fill-color: #FFFFFF;\n",
              "      --disabled-bg-color: #3B4455;\n",
              "      --disabled-fill-color: #666;\n",
              "  }\n",
              "\n",
              "  .colab-df-quickchart {\n",
              "    background-color: var(--bg-color);\n",
              "    border: none;\n",
              "    border-radius: 50%;\n",
              "    cursor: pointer;\n",
              "    display: none;\n",
              "    fill: var(--fill-color);\n",
              "    height: 32px;\n",
              "    padding: 0;\n",
              "    width: 32px;\n",
              "  }\n",
              "\n",
              "  .colab-df-quickchart:hover {\n",
              "    background-color: var(--hover-bg-color);\n",
              "    box-shadow: 0 1px 2px rgba(60, 64, 67, 0.3), 0 1px 3px 1px rgba(60, 64, 67, 0.15);\n",
              "    fill: var(--button-hover-fill-color);\n",
              "  }\n",
              "\n",
              "  .colab-df-quickchart-complete:disabled,\n",
              "  .colab-df-quickchart-complete:disabled:hover {\n",
              "    background-color: var(--disabled-bg-color);\n",
              "    fill: var(--disabled-fill-color);\n",
              "    box-shadow: none;\n",
              "  }\n",
              "\n",
              "  .colab-df-spinner {\n",
              "    border: 2px solid var(--fill-color);\n",
              "    border-color: transparent;\n",
              "    border-bottom-color: var(--fill-color);\n",
              "    animation:\n",
              "      spin 1s steps(1) infinite;\n",
              "  }\n",
              "\n",
              "  @keyframes spin {\n",
              "    0% {\n",
              "      border-color: transparent;\n",
              "      border-bottom-color: var(--fill-color);\n",
              "      border-left-color: var(--fill-color);\n",
              "    }\n",
              "    20% {\n",
              "      border-color: transparent;\n",
              "      border-left-color: var(--fill-color);\n",
              "      border-top-color: var(--fill-color);\n",
              "    }\n",
              "    30% {\n",
              "      border-color: transparent;\n",
              "      border-left-color: var(--fill-color);\n",
              "      border-top-color: var(--fill-color);\n",
              "      border-right-color: var(--fill-color);\n",
              "    }\n",
              "    40% {\n",
              "      border-color: transparent;\n",
              "      border-right-color: var(--fill-color);\n",
              "      border-top-color: var(--fill-color);\n",
              "    }\n",
              "    60% {\n",
              "      border-color: transparent;\n",
              "      border-right-color: var(--fill-color);\n",
              "    }\n",
              "    80% {\n",
              "      border-color: transparent;\n",
              "      border-right-color: var(--fill-color);\n",
              "      border-bottom-color: var(--fill-color);\n",
              "    }\n",
              "    90% {\n",
              "      border-color: transparent;\n",
              "      border-bottom-color: var(--fill-color);\n",
              "    }\n",
              "  }\n",
              "</style>\n",
              "\n",
              "      <script>\n",
              "        async function quickchart(key) {\n",
              "          const quickchartButtonEl =\n",
              "            document.querySelector('#' + key + ' button');\n",
              "          quickchartButtonEl.disabled = true;  // To prevent multiple clicks.\n",
              "          quickchartButtonEl.classList.add('colab-df-spinner');\n",
              "          try {\n",
              "            const charts = await google.colab.kernel.invokeFunction(\n",
              "                'suggestCharts', [key], {});\n",
              "          } catch (error) {\n",
              "            console.error('Error during call to suggestCharts:', error);\n",
              "          }\n",
              "          quickchartButtonEl.classList.remove('colab-df-spinner');\n",
              "          quickchartButtonEl.classList.add('colab-df-quickchart-complete');\n",
              "        }\n",
              "        (() => {\n",
              "          let quickchartButtonEl =\n",
              "            document.querySelector('#df-c86ea72e-96b7-4716-8f99-67d6d97d7977 button');\n",
              "          quickchartButtonEl.style.display =\n",
              "            google.colab.kernel.accessAllowed ? 'block' : 'none';\n",
              "        })();\n",
              "      </script>\n",
              "    </div>\n",
              "    </div>\n",
              "  </div>\n"
            ],
            "application/vnd.google.colaboratory.intrinsic+json": {
              "type": "dataframe",
              "variable_name": "df",
              "summary": "{\n  \"name\": \"df\",\n  \"rows\": 2318,\n  \"fields\": [\n    {\n      \"column\": \"Unnamed: 0\",\n      \"properties\": {\n        \"dtype\": \"number\",\n        \"std\": 674,\n        \"min\": 0,\n        \"max\": 2335,\n        \"num_unique_values\": 2318,\n        \"samples\": [\n          1050,\n          552,\n          102\n        ],\n        \"semantic_type\": \"\",\n        \"description\": \"\"\n      }\n    },\n    {\n      \"column\": \"price\",\n      \"properties\": {\n        \"dtype\": \"number\",\n        \"std\": 288,\n        \"min\": 80,\n        \"max\": 1400,\n        \"num_unique_values\": 354,\n        \"samples\": [\n          1054,\n          467,\n          1236\n        ],\n        \"semantic_type\": \"\",\n        \"description\": \"\"\n      }\n    },\n    {\n      \"column\": \"mark\",\n      \"properties\": {\n        \"dtype\": \"category\",\n        \"num_unique_values\": 28,\n        \"samples\": [\n          \"mitsubishi\",\n          \"ford\",\n          \"kubota\"\n        ],\n        \"semantic_type\": \"\",\n        \"description\": \"\"\n      }\n    },\n    {\n      \"column\": \"model\",\n      \"properties\": {\n        \"dtype\": \"category\",\n        \"num_unique_values\": 258,\n        \"samples\": [\n          \"naked\",\n          \"esse\",\n          \"mercedes-benz others\"\n        ],\n        \"semantic_type\": \"\",\n        \"description\": \"\"\n      }\n    },\n    {\n      \"column\": \"year\",\n      \"properties\": {\n        \"dtype\": \"number\",\n        \"std\": 3,\n        \"min\": 1979,\n        \"max\": 2015,\n        \"num_unique_values\": 30,\n        \"samples\": [\n          1992,\n          2000,\n          1990\n        ],\n        \"semantic_type\": \"\",\n        \"description\": \"\"\n      }\n    },\n    {\n      \"column\": \"mileage\",\n      \"properties\": {\n        \"dtype\": \"number\",\n        \"std\": 52512,\n        \"min\": 2000,\n        \"max\": 790000,\n        \"num_unique_values\": 1367,\n        \"samples\": [\n          168000,\n          72867,\n          107915\n        ],\n        \"semantic_type\": \"\",\n        \"description\": \"\"\n      }\n    },\n    {\n      \"column\": \"engine_capacity\",\n      \"properties\": {\n        \"dtype\": \"number\",\n        \"std\": 549,\n        \"min\": 9,\n        \"max\": 12340,\n        \"num_unique_values\": 93,\n        \"samples\": [\n          3500,\n          2970,\n          2350\n        ],\n        \"semantic_type\": \"\",\n        \"description\": \"\"\n      }\n    },\n    {\n      \"column\": \"transmission\",\n      \"properties\": {\n        \"dtype\": \"category\",\n        \"num_unique_values\": 3,\n        \"samples\": [\n          \"at\",\n          \"mt\",\n          \"cvt\"\n        ],\n        \"semantic_type\": \"\",\n        \"description\": \"\"\n      }\n    },\n    {\n      \"column\": \"drive\",\n      \"properties\": {\n        \"dtype\": \"category\",\n        \"num_unique_values\": 3,\n        \"samples\": [\n          \"2wd\",\n          \"4wd\",\n          \"awd\"\n        ],\n        \"semantic_type\": \"\",\n        \"description\": \"\"\n      }\n    },\n    {\n      \"column\": \"hand_drive\",\n      \"properties\": {\n        \"dtype\": \"category\",\n        \"num_unique_values\": 3,\n        \"samples\": [\n          \"rhd\",\n          \"center\",\n          \"lhd\"\n        ],\n        \"semantic_type\": \"\",\n        \"description\": \"\"\n      }\n    },\n    {\n      \"column\": \"fuel\",\n      \"properties\": {\n        \"dtype\": \"category\",\n        \"num_unique_values\": 5,\n        \"samples\": [\n          \"diesel\",\n          \"cng\",\n          \"hybrid\"\n        ],\n        \"semantic_type\": \"\",\n        \"description\": \"\"\n      }\n    }\n  ]\n}"
            }
          },
          "metadata": {},
          "execution_count": 4
        }
      ]
    },
    {
      "cell_type": "markdown",
      "source": [
        "Удалим ненужный столбец:"
      ],
      "metadata": {
        "id": "dnjQaCnsGxpI"
      }
    },
    {
      "cell_type": "code",
      "source": [
        "df.drop(['Unnamed: 0'], inplace=True, axis=1)"
      ],
      "metadata": {
        "id": "d0WuXH-PGYDu"
      },
      "execution_count": null,
      "outputs": []
    },
    {
      "cell_type": "markdown",
      "source": [
        "Узнаем более подробную информацию о уже измененном нами датасете:"
      ],
      "metadata": {
        "id": "P4vgIo_FLXV1"
      }
    },
    {
      "cell_type": "code",
      "source": [
        "df.info()"
      ],
      "metadata": {
        "colab": {
          "base_uri": "https://localhost:8080/"
        },
        "id": "ppsZtOltl4sV",
        "outputId": "8ad03d09-724b-4fa2-f1cd-af738c2e8f85"
      },
      "execution_count": null,
      "outputs": [
        {
          "output_type": "stream",
          "name": "stdout",
          "text": [
            "<class 'pandas.core.frame.DataFrame'>\n",
            "RangeIndex: 2318 entries, 0 to 2317\n",
            "Data columns (total 10 columns):\n",
            " #   Column           Non-Null Count  Dtype \n",
            "---  ------           --------------  ----- \n",
            " 0   price            2318 non-null   int64 \n",
            " 1   mark             2318 non-null   object\n",
            " 2   model            2318 non-null   object\n",
            " 3   year             2318 non-null   int64 \n",
            " 4   mileage          2318 non-null   int64 \n",
            " 5   engine_capacity  2318 non-null   int64 \n",
            " 6   transmission     2318 non-null   object\n",
            " 7   drive            2318 non-null   object\n",
            " 8   hand_drive       2318 non-null   object\n",
            " 9   fuel             2318 non-null   object\n",
            "dtypes: int64(4), object(6)\n",
            "memory usage: 181.2+ KB\n"
          ]
        }
      ]
    },
    {
      "cell_type": "markdown",
      "source": [
        "Выведем произвольный пример и внимательно изучим данные представленного образца:"
      ],
      "metadata": {
        "id": "JQvduy4_XeR0"
      }
    },
    {
      "cell_type": "code",
      "source": [
        "n = 3\n",
        "for i in range(len(df.values[n])):\n",
        "    print('{:>2} {:>30}  {}'.format(i, df.columns[i], df.values[n][i]))"
      ],
      "metadata": {
        "colab": {
          "base_uri": "https://localhost:8080/"
        },
        "id": "3AJFwGRvWxhG",
        "outputId": "a564e07e-5b8b-4bf9-a05a-a39b56a8f482"
      },
      "execution_count": null,
      "outputs": [
        {
          "output_type": "stream",
          "name": "stdout",
          "text": [
            " 0                          price  190\n",
            " 1                           mark  toyota\n",
            " 2                          model  avensis\n",
            " 3                           year  2008\n",
            " 4                        mileage  130661\n",
            " 5                engine_capacity  1990\n",
            " 6                   transmission  at\n",
            " 7                          drive  2wd\n",
            " 8                     hand_drive  rhd\n",
            " 9                           fuel  gasoline\n"
          ]
        }
      ]
    },
    {
      "cell_type": "markdown",
      "source": [
        "Произведем удаление выбросов среди числовых признаков, установив нижнюю и верхнюю границу.\n",
        "\n",
        "Далее преобразуем цены в логарифмическую шкалу для нормализации распределения. Это помогает уменьшить влияние экстремальных значений и сделать данные более \"нормальными\".\n",
        "\n",
        "Добавим новые признаки, которые будут улучшать сходимость с целевым признаком - ценой.` .fillna(0)` заменяет NaN на 0, `.replace(0, np.nan).fillna(1)` – защита от деления на ноль, `.transform()` нужен, чтобы добавить групповые статистики в исходный датафрейм, сохраняя его размер."
      ],
      "metadata": {
        "id": "iIr0AzR4gD1g"
      }
    },
    {
      "cell_type": "code",
      "source": [
        "#удаление выбросов по всем числовым признакам\n",
        "numeric_cols = ['year', 'mileage', 'engine_capacity', 'price']\n",
        "for col in numeric_cols:\n",
        "    Q1 = df[col].quantile(0.15)\n",
        "    Q3 = df[col].quantile(0.85)\n",
        "    df = df[(df[col] >= Q1) & (df[col] <= Q3)]\n",
        "\n",
        "df['price'] = np.log1p(df['price']) #логарифмирование цены для нормализации распределения\n",
        "\n",
        "#добавляем новые признаки\n",
        "df['mark_avg_price'] = df.groupby('mark')['price'].transform('mean')\n",
        "df['mark_std_price'] = df.groupby('mark')['price'].transform('std').fillna(0)\n",
        "df['mark_count'] = df.groupby('mark')['price'].transform('count')\n",
        "\n",
        "df['model_avg_price'] = df.groupby('model')['price'].transform('mean')\n",
        "df['model_std_price'] = df.groupby('model')['price'].transform('std').fillna(0)\n",
        "df['model_count'] = df.groupby('model')['price'].transform('count')\n",
        "\n",
        "df['fuel_avg_price'] = df.groupby('fuel')['price'].transform('mean')\n",
        "df['fuel_std_price'] = df.groupby('fuel')['price'].transform('std').fillna(0)\n",
        "\n",
        "df['price_to_mark_avg'] = df['price'] / df['mark_avg_price'].replace(0, np.nan).fillna(1)\n",
        "df['price_to_model_avg'] = df['price'] / df['model_avg_price'].replace(0, np.nan).fillna(1)\n",
        "\n",
        "df['age'] = 2025 - df['year']\n",
        "df['mileage_ratio'] = df['mileage'] / df['mileage'].max()"
      ],
      "metadata": {
        "id": "Alp4WLoHWEWp"
      },
      "execution_count": null,
      "outputs": []
    },
    {
      "cell_type": "markdown",
      "source": [
        "Далее нам необходимо создать классы для марок автомобилей:"
      ],
      "metadata": {
        "id": "Ob7kSZ9YsB9L"
      }
    },
    {
      "cell_type": "code",
      "source": [
        "mark_class = {\n",
        "    'toyota': 0,\n",
        "    'honda': 1,\n",
        "    'nissan': 2,\n",
        "    'daihatsu': 3,\n",
        "    'volkswagen': 4,\n",
        "    'mazda': 5,\n",
        "    'mercedes-benz': 6,\n",
        "    'mitsubishi': 7,\n",
        "    'прочее': 8\n",
        "}"
      ],
      "metadata": {
        "id": "vTKTTXRNrslg"
      },
      "execution_count": null,
      "outputs": []
    },
    {
      "cell_type": "markdown",
      "source": [
        "Нейронные сети хорошо работают с данными представленными в формате **one hot encoding**, поэтому реализуем следующую функцию:"
      ],
      "metadata": {
        "id": "UVln0ZRrshPX"
      }
    },
    {
      "cell_type": "code",
      "source": [
        "def mark2OHE(param):\n",
        "    num_classes = len(set(mark_class.values()))\n",
        "    if not isinstance(param, str):\n",
        "        param = list(mark_class.keys())[-1]\n",
        "    split_array = re.split(r'[ ,.:()?!]', param.lower())\n",
        "    for word in split_array:\n",
        "        mark_cls = mark_class.get(word, -1)\n",
        "        if mark_cls >= 0:\n",
        "            break\n",
        "    else:\n",
        "        mark_cls = num_classes - 1\n",
        "    return utils.to_categorical(mark_cls, num_classes)"
      ],
      "metadata": {
        "id": "KReMl1_osrfH"
      },
      "execution_count": null,
      "outputs": []
    },
    {
      "cell_type": "markdown",
      "source": [
        "Год, пробег и мощность двигателя мы также превратим в **one hot encoding** формат. Для этого зададим пороговые значения:"
      ],
      "metadata": {
        "id": "wU0OZFE_wUwU"
      }
    },
    {
      "cell_type": "code",
      "source": [
        "year_class = [1979, 1981, 1983, 1985, 1987, 1989, 1990, 1991, 1992, 1993, 1994, 1995, 1996, 1997, 1998, 1999, 2000, 2001, 2002, 2003, 2004, 2005, 2006, 2007, 2008, 2009, 2010, 2011, 2012, 2013, 2014, 2015]\n",
        "mileage_class = [2000, 4000, 6000, 8000, 10000, 15000, 20000, 25000, 30000, 35000, 40000, 45000, 50000, 55000, 60000, 65000, 70000, 75000, 80000, 85000, 90000, 95000, 100000, 150000, 200000, 250000, 300000]\n",
        "engine_capacity_class = [9, 100, 300, 500, 700, 900, 1100, 1300, 1500, 2000, 2300, 2700, 3000, 3400, 3700, 4200, 4600, 5000, 5500, 6000, 6500, 7000, 7500, 8000, 10000, 11500, 13000]"
      ],
      "metadata": {
        "id": "5sK0PhjOBuef"
      },
      "execution_count": null,
      "outputs": []
    },
    {
      "cell_type": "markdown",
      "source": [
        "Определим универсальную функцию перевода числа в диапазон **one hot encoding**:"
      ],
      "metadata": {
        "id": "3QJU4M6tzJgN"
      }
    },
    {
      "cell_type": "code",
      "source": [
        "def range2OHE(param, class_list):\n",
        "    num_classes = len(class_list)+1\n",
        "    for i in range(num_classes - 1):\n",
        "        if float(param) < class_list[i]:\n",
        "            cls = i\n",
        "            break\n",
        "    else:\n",
        "        cls = num_classes - 1\n",
        "    return utils.to_categorical(cls, num_classes)"
      ],
      "metadata": {
        "id": "ZP4pto5ly4qI"
      },
      "execution_count": null,
      "outputs": []
    },
    {
      "cell_type": "markdown",
      "source": [
        "Далее для столбцов *model*, *transmission*, *drive*, *hand_drive* и *fuel* создидм словари, из которых получим классы для каждого столбца:"
      ],
      "metadata": {
        "id": "48ioOORzItyY"
      }
    },
    {
      "cell_type": "code",
      "source": [
        "model_class = {\n",
        "    'fit': 0,\n",
        "    'vitz': 1,\n",
        "    'passo': 2,\n",
        "    'ist': 3,\n",
        "    'ractis': 4,\n",
        "    'note': 5,\n",
        "    'demio': 6,\n",
        "    'wish': 7,\n",
        "    'swift': 8,\n",
        "    'march': 9,\n",
        "    'sienta': 10,\n",
        "    'raum': 11,\n",
        "    'cube': 12,\n",
        "    'прочее': 13\n",
        "}\n",
        "\n",
        "transmission_class = {\n",
        "    'at': 0,\n",
        "    'mt': 1,\n",
        "    'прочее': 2\n",
        "}\n",
        "\n",
        "drive_class = {\n",
        "    '2wd': 0,\n",
        "    '4wd': 1,\n",
        "    'прочее': 2\n",
        "}\n",
        "\n",
        "hand_drive_class = {\n",
        "    'rhd': 0,\n",
        "    'lhd': 1,\n",
        "    'прочее': 2\n",
        "}\n",
        "\n",
        "fuel_class = {\n",
        "    'gasoline': 0,\n",
        "    'diesel': 1,\n",
        "    'hybrid': 2,\n",
        "    'lpg': 3,\n",
        "    'прочее': 4\n",
        "}"
      ],
      "metadata": {
        "id": "m0pSD1CYByDW"
      },
      "execution_count": null,
      "outputs": []
    },
    {
      "cell_type": "markdown",
      "source": [
        "Определим универсальную функцию преобразования строки к *multi-вектору:*"
      ],
      "metadata": {
        "id": "EU-gPPXrJM7Y"
      }
    },
    {
      "cell_type": "code",
      "source": [
        "def str2multiOHE(param, class_dict):\n",
        "    num_classes = len(class_dict)\n",
        "    result = np.zeros(num_classes)\n",
        "    if not isinstance(param, str):\n",
        "        result[-1] = 1.0\n",
        "        return result\n",
        "    param = param.lower().strip()\n",
        "    for value, cls in class_dict.items():\n",
        "        if value in param:\n",
        "            result[cls] = 1.0\n",
        "    return result"
      ],
      "metadata": {
        "id": "ribyjFzN_PCC"
      },
      "execution_count": null,
      "outputs": []
    },
    {
      "cell_type": "markdown",
      "source": [
        "Выполним фиксацию индексов столбцов, объединеним все входные данные в один общий вектор,где `x_data` — вектор признаков, `y_data` — целевое значение, т.е. цена. `get_train_data` -  функция, которая преобразует весь датафрейм в два массива NumPy."
      ],
      "metadata": {
        "id": "CN46nar4mFa9"
      }
    },
    {
      "cell_type": "code",
      "source": [
        "#фиксация индексов столбцов\n",
        "COL_MARK = df.columns.get_loc('mark')\n",
        "COL_MODEL = df.columns.get_loc('model')\n",
        "COL_YEAR = df.columns.get_loc('year')\n",
        "COL_MILEAGE = df.columns.get_loc('mileage')\n",
        "COL_ENGINE_CAPACITY = df.columns.get_loc('engine_capacity')\n",
        "COL_TRANSMISSION = df.columns.get_loc('transmission')\n",
        "COL_DRIVE = df.columns.get_loc('drive')\n",
        "COL_HAND_DRIVE = df.columns.get_loc('hand_drive')\n",
        "COL_FUEL = df.columns.get_loc('fuel')\n",
        "COL_PRICE = df.columns.get_loc('price')\n",
        "COL_MARK_AVG_PRICE = df.columns.get_loc('mark_avg_price')\n",
        "COL_MARK_STD_PRICE = df.columns.get_loc('mark_std_price')\n",
        "COL_MARK_COUNT = df.columns.get_loc('mark_count')\n",
        "COL_MODEL_AVG_PRICE = df.columns.get_loc('model_avg_price')\n",
        "COL_MODEL_STD_PRICE = df.columns.get_loc('model_std_price')\n",
        "COL_MODEL_COUNT = df.columns.get_loc('model_count')\n",
        "COL_FUEL_AVG_PRICE = df.columns.get_loc('fuel_avg_price')\n",
        "COL_FUEL_STD_PRICE = df.columns.get_loc('fuel_std_price')\n",
        "COL_PRICE_TO_MARK_AVG = df.columns.get_loc('price_to_mark_avg')\n",
        "COL_PRICE_TO_MODEL_AVG = df.columns.get_loc('price_to_model_avg')\n",
        "COL_AGE = df.columns.get_loc('age')\n",
        "COL_MILEAGE_RATIO = df.columns.get_loc('mileage_ratio')\n",
        "\n",
        "\n",
        "def get_row_data(row):\n",
        "    #объединение всех входных данных в один общий вектор\n",
        "    x_data = np.hstack([\n",
        "        mark2OHE(row[COL_MARK]),\n",
        "        range2OHE(row[COL_YEAR], year_class),\n",
        "        range2OHE(row[COL_MILEAGE], mileage_class),\n",
        "        range2OHE(row[COL_ENGINE_CAPACITY], engine_capacity_class),\n",
        "        str2multiOHE(row[COL_MODEL], model_class),\n",
        "        str2multiOHE(row[COL_TRANSMISSION], transmission_class),\n",
        "        str2multiOHE(row[COL_DRIVE], drive_class),\n",
        "        str2multiOHE(row[COL_HAND_DRIVE], hand_drive_class),\n",
        "        str2multiOHE(row[COL_FUEL], fuel_class),\n",
        "\n",
        "        row[COL_MARK_AVG_PRICE],\n",
        "        row[COL_MARK_STD_PRICE],\n",
        "        row[COL_MARK_COUNT],\n",
        "        row[COL_MODEL_AVG_PRICE],\n",
        "        row[COL_MODEL_STD_PRICE],\n",
        "        row[COL_MODEL_COUNT],\n",
        "        row[COL_FUEL_AVG_PRICE],\n",
        "        row[COL_FUEL_STD_PRICE],\n",
        "        row[COL_PRICE_TO_MARK_AVG],\n",
        "        row[COL_PRICE_TO_MODEL_AVG],\n",
        "        row[COL_AGE],\n",
        "        row[COL_MILEAGE_RATIO],\n",
        "    ])\n",
        "    y_data = np.array([row[COL_PRICE]])\n",
        "    return x_data, y_data\n",
        "\n",
        "\n",
        "def get_train_data(dataFrame):\n",
        "    x_data = []\n",
        "    y_data = []\n",
        "    for row in dataFrame.values:\n",
        "        x, y = get_row_data(row)\n",
        "        x_data.append(x)\n",
        "        y_data.append(y)\n",
        "    return np.array(x_data), np.array(y_data)\n",
        "\n",
        "x_all, y_all = get_train_data(df)"
      ],
      "metadata": {
        "id": "AHxudw8ufGc1"
      },
      "execution_count": null,
      "outputs": []
    },
    {
      "cell_type": "markdown",
      "source": [
        "Формируем данные:"
      ],
      "metadata": {
        "id": "_h5Zg-CYs0C-"
      }
    },
    {
      "cell_type": "code",
      "source": [
        "x_all, y_all = get_train_data(df) #формирование всех данных"
      ],
      "metadata": {
        "id": "X0_iWhH2iRvR"
      },
      "execution_count": null,
      "outputs": []
    },
    {
      "cell_type": "markdown",
      "source": [
        "Разделим данные на обучающую (70%), тестовую (15%) и валидационную (15%) выборки. После выведем информацию о данных в каждой из них:"
      ],
      "metadata": {
        "id": "VCGbPfbVs1IG"
      }
    },
    {
      "cell_type": "code",
      "source": [
        "x_train, x_temp, y_train, y_temp = train_test_split(x_all, y_all, test_size=0.3, random_state=42)\n",
        "x_val, x_test, y_val, y_test = train_test_split(x_temp, y_temp, test_size=0.5, random_state=42)\n",
        "\n",
        "#вывод количества данных в каждой выборке\n",
        "print(\"\\nРаспределение данных:\")\n",
        "print(f\"Обучающая выборка (train): {len(x_train)} примеров ({len(x_train)/len(x_all)*100:.1f}%)\")\n",
        "print(f\"Валидационная выборка (val): {len(x_val)} примеров ({len(x_val)/len(x_all)*100:.1f}%)\")\n",
        "print(f\"Тестовая выборка (test): {len(x_test)} примеров ({len(x_test)/len(x_all)*100:.1f}%)\")\n",
        "print(f\"Общий размер датасета: {len(x_all)} примеров\\n\")"
      ],
      "metadata": {
        "colab": {
          "base_uri": "https://localhost:8080/"
        },
        "id": "dL1LkHIP0tND",
        "outputId": "9da3d073-79f4-45df-ea7a-7a0ed76b05f7"
      },
      "execution_count": null,
      "outputs": [
        {
          "output_type": "stream",
          "name": "stdout",
          "text": [
            "\n",
            "Распределение данных:\n",
            "Обучающая выборка (train): 468 примеров (70.0%)\n",
            "Валидационная выборка (val): 100 примеров (14.9%)\n",
            "Тестовая выборка (test): 101 примеров (15.1%)\n",
            "Общий размер датасета: 669 примеров\n",
            "\n"
          ]
        }
      ]
    },
    {
      "cell_type": "markdown",
      "source": [
        "`StandardScaler() `— это метод из библиотеки sklearn. Он нормализует данные так, чтобы среднее значение было равно 0 , а стандартное отклонение — 1 ."
      ],
      "metadata": {
        "id": "28eYm5RgtFwq"
      }
    },
    {
      "cell_type": "code",
      "source": [
        "x_scaler = StandardScaler()\n",
        "x_train_scaled = x_scaler.fit_transform(x_train)\n",
        "x_val_scaled = x_scaler.transform(x_val)\n",
        "x_test_scaled = x_scaler.transform(x_test)\n",
        "\n",
        "y_scaler = StandardScaler()\n",
        "y_train_scaled = y_scaler.fit_transform(y_train)\n",
        "y_val_scaled = y_scaler.transform(y_val)\n",
        "y_test_scaled = y_scaler.transform(y_test)"
      ],
      "metadata": {
        "id": "d4kz5_V9HwVi"
      },
      "execution_count": null,
      "outputs": []
    },
    {
      "cell_type": "markdown",
      "source": [
        "Данный блок кода оптимизирует архитектуру нашей модели с помощью **Optuna**. Обучаем модель с разными гиперпараметрами, чтобы найти наилучшие. Строим финальную модель на основе найденных параметров.\n"
      ],
      "metadata": {
        "id": "Xmww57xVGD-E"
      }
    },
    {
      "cell_type": "code",
      "source": [
        "def create_model(trial):\n",
        "    #оптимизация архитектуры\n",
        "    n_layers = trial.suggest_int('n_layers', 1, 4)\n",
        "    dropout_rate = trial.suggest_float('dropout_rate', 0.1, 0.5)\n",
        "    activation = trial.suggest_categorical('activation', ['relu', 'elu', 'selu', 'tanh'])\n",
        "\n",
        "    #оптимизация регуляризации\n",
        "    reg_type = trial.suggest_categorical('reg_type', ['l1', 'l2', 'l1_l2', 'none'])\n",
        "    reg_strength = trial.suggest_float('reg_strength', 1e-5, 1e-2, log=True) if reg_type != 'none' else 0\n",
        "\n",
        "    #инициализация регуляризатора\n",
        "    regularizer = {\n",
        "        'l1': l1(reg_strength),\n",
        "        'l2': l2(reg_strength),\n",
        "        'l1_l2': l1_l2(reg_strength, reg_strength),\n",
        "        'none': None\n",
        "    }[reg_type]\n",
        "\n",
        "    #построение модели\n",
        "    inputs = Input(shape=(x_train_scaled.shape[1],))\n",
        "    x = inputs\n",
        "\n",
        "    for i in range(n_layers):\n",
        "        units = trial.suggest_int(f'n_units_l{i}', 64, 512, step=64)\n",
        "        x = Dense(units, activation=activation, kernel_regularizer=regularizer)(x)\n",
        "        x = BatchNormalization()(x)\n",
        "        x = Dropout(dropout_rate)(x)\n",
        "\n",
        "    outputs = Dense(1, activation='linear')(x)\n",
        "    model = Model(inputs=inputs, outputs=outputs)\n",
        "\n",
        "    #оптимизация параметров обучения\n",
        "    learning_rate = trial.suggest_float('learning_rate', 1e-5, 1e-2, log=True)\n",
        "    optimizer = Adam(learning_rate=learning_rate)\n",
        "\n",
        "    model.compile(optimizer=optimizer, loss='mse', metrics=['mae'])\n",
        "    return model\n",
        "\n",
        "def objective(trial):\n",
        "    batch_size = trial.suggest_categorical('batch_size', [32, 64, 128, 256, 512])\n",
        "    model = create_model(trial)\n",
        "\n",
        "    history = model.fit(\n",
        "        x_train_scaled,\n",
        "        y_train_scaled,\n",
        "        validation_data=(x_val_scaled, y_val_scaled),\n",
        "        batch_size=batch_size,\n",
        "        epochs=100,\n",
        "        verbose=0,\n",
        "        callbacks=[EarlyStopping(patience=10, restore_best_weights=True)]\n",
        "    )\n",
        "    return min(history.history['val_loss'])\n",
        "\n",
        "#запуск оптимизации\n",
        "study = optuna.create_study(direction='minimize')\n",
        "study.optimize(objective, n_trials=50, timeout=3600)\n",
        "\n",
        "input_layer = Input(shape=(x_train_scaled.shape[1],))\n",
        "x = input_layer\n",
        "\n",
        "#применяем лучшие параметры напрямую из study.best_params:\n",
        "best_reg_type = study.best_params.get('reg_type', 'none')\n",
        "best_reg_strength = study.best_params.get('reg_strength', 0) if best_reg_type != 'none' else 0\n",
        "\n",
        "#инициализация регуляризатора на основе лучших параметров\n",
        "best_regularizer = {\n",
        "    'l1': l1(best_reg_strength),\n",
        "    'l2': l2(best_reg_strength),\n",
        "    'l1_l2': l1_l2(best_reg_strength, best_reg_strength),\n",
        "    'none': None\n",
        "}[best_reg_type]\n",
        "\n",
        "for i in range(study.best_params['n_layers']):\n",
        "    x = Dense(study.best_params[f'n_units_l{i}'],\n",
        "              activation=study.best_params['activation'],\n",
        "              kernel_regularizer=best_regularizer)(x)\n",
        "    x = BatchNormalization()(x)\n",
        "    x = Dropout(study.best_params['dropout_rate'])(x)\n",
        "\n",
        "output_layer = Dense(1, activation='linear')(x)\n",
        "best_model = Model(inputs=input_layer, outputs=output_layer)"
      ],
      "metadata": {
        "colab": {
          "base_uri": "https://localhost:8080/"
        },
        "id": "q3bAYQ8MWrlS",
        "outputId": "30855a07-1038-4e4d-8877-2c4362b2d1f0"
      },
      "execution_count": null,
      "outputs": [
        {
          "output_type": "stream",
          "name": "stderr",
          "text": [
            "[I 2025-05-22 09:50:26,765] A new study created in memory with name: no-name-dc953664-19c9-40a1-a474-381e5b1ee96e\n",
            "[I 2025-05-22 09:50:54,038] Trial 0 finished with value: 0.2534252107143402 and parameters: {'batch_size': 128, 'n_layers': 2, 'dropout_rate': 0.4790082476934766, 'activation': 'selu', 'reg_type': 'l1', 'reg_strength': 3.681074097376431e-05, 'n_units_l0': 192, 'n_units_l1': 64, 'learning_rate': 4.110194844578074e-05}. Best is trial 0 with value: 0.2534252107143402.\n",
            "[I 2025-05-22 09:51:08,418] Trial 1 finished with value: 0.19114254415035248 and parameters: {'batch_size': 128, 'n_layers': 1, 'dropout_rate': 0.20506717357880438, 'activation': 'elu', 'reg_type': 'l2', 'reg_strength': 0.001432964454117149, 'n_units_l0': 64, 'learning_rate': 0.00016605381039074127}. Best is trial 1 with value: 0.19114254415035248.\n",
            "[I 2025-05-22 09:51:31,234] Trial 2 finished with value: 17.87096405029297 and parameters: {'batch_size': 64, 'n_layers': 3, 'dropout_rate': 0.4202639642308814, 'activation': 'relu', 'reg_type': 'l1_l2', 'reg_strength': 0.001237388918597224, 'n_units_l0': 384, 'n_units_l1': 448, 'n_units_l2': 448, 'learning_rate': 0.00022897139051803174}. Best is trial 1 with value: 0.19114254415035248.\n",
            "[I 2025-05-22 09:51:48,375] Trial 3 finished with value: 0.11959689110517502 and parameters: {'batch_size': 64, 'n_layers': 1, 'dropout_rate': 0.12751378479415815, 'activation': 'tanh', 'reg_type': 'l1', 'reg_strength': 0.0033915920960539544, 'n_units_l0': 128, 'learning_rate': 0.0017294926249655698}. Best is trial 3 with value: 0.11959689110517502.\n",
            "[I 2025-05-22 09:52:13,356] Trial 4 finished with value: 0.530348539352417 and parameters: {'batch_size': 64, 'n_layers': 3, 'dropout_rate': 0.3570181643593715, 'activation': 'relu', 'reg_type': 'none', 'n_units_l0': 192, 'n_units_l1': 64, 'n_units_l2': 256, 'learning_rate': 2.89458200532335e-05}. Best is trial 3 with value: 0.11959689110517502.\n",
            "[I 2025-05-22 09:52:37,986] Trial 5 finished with value: 3.8683922290802 and parameters: {'batch_size': 64, 'n_layers': 2, 'dropout_rate': 0.2863091052515475, 'activation': 'relu', 'reg_type': 'l1_l2', 'reg_strength': 0.0011159662567869623, 'n_units_l0': 320, 'n_units_l1': 512, 'learning_rate': 0.0006953798938200983}. Best is trial 3 with value: 0.11959689110517502.\n",
            "[I 2025-05-22 09:52:54,737] Trial 6 finished with value: 0.45349016785621643 and parameters: {'batch_size': 64, 'n_layers': 4, 'dropout_rate': 0.4781165014451427, 'activation': 'tanh', 'reg_type': 'l1_l2', 'reg_strength': 4.075808880598314e-05, 'n_units_l0': 64, 'n_units_l1': 64, 'n_units_l2': 256, 'n_units_l3': 384, 'learning_rate': 0.0010260997282160592}. Best is trial 3 with value: 0.11959689110517502.\n",
            "[I 2025-05-22 09:53:09,221] Trial 7 finished with value: 0.2477847933769226 and parameters: {'batch_size': 64, 'n_layers': 2, 'dropout_rate': 0.26376794556772065, 'activation': 'elu', 'reg_type': 'l1_l2', 'reg_strength': 3.314259990411337e-05, 'n_units_l0': 448, 'n_units_l1': 128, 'learning_rate': 9.07130120280028e-05}. Best is trial 3 with value: 0.11959689110517502.\n",
            "[I 2025-05-22 09:53:20,869] Trial 8 finished with value: 0.004067186266183853 and parameters: {'batch_size': 32, 'n_layers': 1, 'dropout_rate': 0.11289751161623181, 'activation': 'elu', 'reg_type': 'none', 'n_units_l0': 192, 'learning_rate': 0.007640322500884015}. Best is trial 8 with value: 0.004067186266183853.\n",
            "[I 2025-05-22 09:53:45,806] Trial 9 finished with value: 0.8696258664131165 and parameters: {'batch_size': 128, 'n_layers': 3, 'dropout_rate': 0.14775263384605397, 'activation': 'selu', 'reg_type': 'l1_l2', 'reg_strength': 0.001158448456358259, 'n_units_l0': 64, 'n_units_l1': 448, 'n_units_l2': 64, 'learning_rate': 0.004503186149863351}. Best is trial 8 with value: 0.004067186266183853.\n",
            "[I 2025-05-22 09:53:57,128] Trial 10 finished with value: 0.004368957132101059 and parameters: {'batch_size': 32, 'n_layers': 1, 'dropout_rate': 0.102163098399093, 'activation': 'elu', 'reg_type': 'none', 'n_units_l0': 512, 'learning_rate': 0.007321111776306871}. Best is trial 8 with value: 0.004067186266183853.\n",
            "[I 2025-05-22 09:54:04,642] Trial 11 finished with value: 0.005200780462473631 and parameters: {'batch_size': 32, 'n_layers': 1, 'dropout_rate': 0.10107946608674084, 'activation': 'elu', 'reg_type': 'none', 'n_units_l0': 512, 'learning_rate': 0.009476512995979323}. Best is trial 8 with value: 0.004067186266183853.\n",
            "[I 2025-05-22 09:54:19,264] Trial 12 finished with value: 0.0025395669508725405 and parameters: {'batch_size': 32, 'n_layers': 1, 'dropout_rate': 0.17688263978649704, 'activation': 'elu', 'reg_type': 'none', 'n_units_l0': 256, 'learning_rate': 0.004196853618647326}. Best is trial 12 with value: 0.0025395669508725405.\n",
            "[I 2025-05-22 09:54:24,718] Trial 13 finished with value: 0.22592726349830627 and parameters: {'batch_size': 256, 'n_layers': 1, 'dropout_rate': 0.19819514581068312, 'activation': 'elu', 'reg_type': 'none', 'n_units_l0': 256, 'learning_rate': 0.0028083439245587187}. Best is trial 12 with value: 0.0025395669508725405.\n",
            "[I 2025-05-22 09:54:29,931] Trial 14 finished with value: 0.22036659717559814 and parameters: {'batch_size': 512, 'n_layers': 2, 'dropout_rate': 0.19444541327212878, 'activation': 'elu', 'reg_type': 'none', 'n_units_l0': 256, 'n_units_l1': 256, 'learning_rate': 0.0027057452882879455}. Best is trial 12 with value: 0.0025395669508725405.\n",
            "[I 2025-05-22 09:54:58,732] Trial 15 finished with value: 8.876689910888672 and parameters: {'batch_size': 32, 'n_layers': 4, 'dropout_rate': 0.24173381147618248, 'activation': 'elu', 'reg_type': 'l2', 'reg_strength': 0.00988858572393232, 'n_units_l0': 320, 'n_units_l1': 256, 'n_units_l2': 512, 'n_units_l3': 64, 'learning_rate': 1.0543654292448594e-05}. Best is trial 12 with value: 0.0025395669508725405.\n",
            "[I 2025-05-22 09:55:09,273] Trial 16 finished with value: 0.017724620178341866 and parameters: {'batch_size': 32, 'n_layers': 1, 'dropout_rate': 0.3352171919511715, 'activation': 'elu', 'reg_type': 'none', 'n_units_l0': 192, 'learning_rate': 0.0006867435560812352}. Best is trial 12 with value: 0.0025395669508725405.\n",
            "[I 2025-05-22 09:55:24,665] Trial 17 finished with value: 0.021262627094984055 and parameters: {'batch_size': 32, 'n_layers': 2, 'dropout_rate': 0.1915807995683505, 'activation': 'tanh', 'reg_type': 'none', 'n_units_l0': 384, 'n_units_l1': 320, 'learning_rate': 0.005233527297676201}. Best is trial 12 with value: 0.0025395669508725405.\n",
            "[I 2025-05-22 09:55:30,761] Trial 18 finished with value: 0.08937280625104904 and parameters: {'batch_size': 256, 'n_layers': 1, 'dropout_rate': 0.15543434308946608, 'activation': 'selu', 'reg_type': 'none', 'n_units_l0': 128, 'learning_rate': 0.001323046975407262}. Best is trial 12 with value: 0.0025395669508725405.\n",
            "[I 2025-05-22 09:55:40,317] Trial 19 finished with value: 0.31915923953056335 and parameters: {'batch_size': 512, 'n_layers': 2, 'dropout_rate': 0.23159571712070187, 'activation': 'elu', 'reg_type': 'l2', 'reg_strength': 0.0001645551002094994, 'n_units_l0': 256, 'n_units_l1': 192, 'learning_rate': 0.0003967999770763951}. Best is trial 12 with value: 0.0025395669508725405.\n",
            "[I 2025-05-22 09:55:51,912] Trial 20 finished with value: 0.009828630834817886 and parameters: {'batch_size': 32, 'n_layers': 1, 'dropout_rate': 0.16202276073769534, 'activation': 'elu', 'reg_type': 'l1', 'reg_strength': 1.250889028347926e-05, 'n_units_l0': 128, 'learning_rate': 0.00308569910535284}. Best is trial 12 with value: 0.0025395669508725405.\n",
            "[I 2025-05-22 09:56:02,819] Trial 21 finished with value: 0.0053541166707873344 and parameters: {'batch_size': 32, 'n_layers': 1, 'dropout_rate': 0.11294137783511048, 'activation': 'elu', 'reg_type': 'none', 'n_units_l0': 512, 'learning_rate': 0.009042453089608231}. Best is trial 12 with value: 0.0025395669508725405.\n",
            "[I 2025-05-22 09:56:12,630] Trial 22 finished with value: 0.010910991579294205 and parameters: {'batch_size': 32, 'n_layers': 1, 'dropout_rate': 0.10072506710657363, 'activation': 'elu', 'reg_type': 'none', 'n_units_l0': 384, 'learning_rate': 0.006311497805607281}. Best is trial 12 with value: 0.0025395669508725405.\n",
            "[I 2025-05-22 09:56:24,694] Trial 23 finished with value: 0.005326415877789259 and parameters: {'batch_size': 32, 'n_layers': 1, 'dropout_rate': 0.1475981866402884, 'activation': 'elu', 'reg_type': 'none', 'n_units_l0': 320, 'learning_rate': 0.009898421185998773}. Best is trial 12 with value: 0.0025395669508725405.\n",
            "[I 2025-05-22 09:56:46,453] Trial 24 finished with value: 0.004156740382313728 and parameters: {'batch_size': 32, 'n_layers': 2, 'dropout_rate': 0.13198688094648528, 'activation': 'elu', 'reg_type': 'none', 'n_units_l0': 448, 'n_units_l1': 384, 'learning_rate': 0.002140195737182675}. Best is trial 12 with value: 0.0025395669508725405.\n",
            "[I 2025-05-22 09:57:03,997] Trial 25 finished with value: 0.0025998717173933983 and parameters: {'batch_size': 32, 'n_layers': 2, 'dropout_rate': 0.1718044423160288, 'activation': 'elu', 'reg_type': 'none', 'n_units_l0': 448, 'n_units_l1': 384, 'learning_rate': 0.0019266216708529313}. Best is trial 12 with value: 0.0025395669508725405.\n",
            "[I 2025-05-22 09:57:22,961] Trial 26 finished with value: 0.009195108897984028 and parameters: {'batch_size': 32, 'n_layers': 3, 'dropout_rate': 0.170931516508918, 'activation': 'selu', 'reg_type': 'none', 'n_units_l0': 192, 'n_units_l1': 384, 'n_units_l2': 64, 'learning_rate': 0.0038938740591168094}. Best is trial 12 with value: 0.0025395669508725405.\n",
            "[I 2025-05-22 09:57:28,512] Trial 27 finished with value: 0.8445815443992615 and parameters: {'batch_size': 512, 'n_layers': 2, 'dropout_rate': 0.23137022923207545, 'activation': 'relu', 'reg_type': 'none', 'n_units_l0': 256, 'n_units_l1': 512, 'learning_rate': 0.0009911028443552493}. Best is trial 12 with value: 0.0025395669508725405.\n",
            "[I 2025-05-22 09:57:51,017] Trial 28 finished with value: 1.1884992122650146 and parameters: {'batch_size': 256, 'n_layers': 2, 'dropout_rate': 0.32599596042323226, 'activation': 'tanh', 'reg_type': 'l1', 'reg_strength': 0.0001891657426071347, 'n_units_l0': 448, 'n_units_l1': 320, 'learning_rate': 0.0018767726005302391}. Best is trial 12 with value: 0.0025395669508725405.\n",
            "[I 2025-05-22 09:58:03,711] Trial 29 finished with value: 0.1651625633239746 and parameters: {'batch_size': 128, 'n_layers': 2, 'dropout_rate': 0.3846717551283988, 'activation': 'selu', 'reg_type': 'l2', 'reg_strength': 0.00045467056305404204, 'n_units_l0': 192, 'n_units_l1': 192, 'learning_rate': 0.00047648785794343124}. Best is trial 12 with value: 0.0025395669508725405.\n",
            "[I 2025-05-22 09:58:21,145] Trial 30 finished with value: 3.1496291160583496 and parameters: {'batch_size': 32, 'n_layers': 3, 'dropout_rate': 0.2763238050223972, 'activation': 'elu', 'reg_type': 'l1', 'reg_strength': 0.005311001069209252, 'n_units_l0': 320, 'n_units_l1': 384, 'n_units_l2': 384, 'learning_rate': 0.004334672525163342}. Best is trial 12 with value: 0.0025395669508725405.\n",
            "[I 2025-05-22 09:58:37,728] Trial 31 finished with value: 0.003080898430198431 and parameters: {'batch_size': 32, 'n_layers': 2, 'dropout_rate': 0.12506744780924292, 'activation': 'elu', 'reg_type': 'none', 'n_units_l0': 448, 'n_units_l1': 384, 'learning_rate': 0.0021521200569025885}. Best is trial 12 with value: 0.0025395669508725405.\n",
            "[I 2025-05-22 09:58:54,444] Trial 32 finished with value: 0.004746700171381235 and parameters: {'batch_size': 32, 'n_layers': 2, 'dropout_rate': 0.17835633526173406, 'activation': 'elu', 'reg_type': 'none', 'n_units_l0': 448, 'n_units_l1': 448, 'learning_rate': 0.0014930100701640902}. Best is trial 12 with value: 0.0025395669508725405.\n",
            "[I 2025-05-22 09:59:06,012] Trial 33 finished with value: 0.029604146257042885 and parameters: {'batch_size': 32, 'n_layers': 1, 'dropout_rate': 0.1306089214507757, 'activation': 'elu', 'reg_type': 'none', 'n_units_l0': 384, 'learning_rate': 0.00010793741798036643}. Best is trial 12 with value: 0.0025395669508725405.\n",
            "[I 2025-05-22 09:59:14,751] Trial 34 finished with value: 0.032912176102399826 and parameters: {'batch_size': 128, 'n_layers': 2, 'dropout_rate': 0.2224456205304282, 'activation': 'elu', 'reg_type': 'none', 'n_units_l0': 448, 'n_units_l1': 320, 'learning_rate': 0.004988434337308205}. Best is trial 12 with value: 0.0025395669508725405.\n",
            "[I 2025-05-22 09:59:29,817] Trial 35 finished with value: 0.03831368312239647 and parameters: {'batch_size': 32, 'n_layers': 3, 'dropout_rate': 0.12968539984130845, 'activation': 'elu', 'reg_type': 'none', 'n_units_l0': 384, 'n_units_l1': 384, 'n_units_l2': 192, 'learning_rate': 0.00021058852613264263}. Best is trial 12 with value: 0.0025395669508725405.\n",
            "[I 2025-05-22 09:59:49,829] Trial 36 finished with value: 0.005680405534803867 and parameters: {'batch_size': 32, 'n_layers': 1, 'dropout_rate': 0.20902850313797636, 'activation': 'relu', 'reg_type': 'l2', 'reg_strength': 1.1597582008290297e-05, 'n_units_l0': 192, 'learning_rate': 0.002362633389114007}. Best is trial 12 with value: 0.0025395669508725405.\n",
            "[I 2025-05-22 10:00:09,544] Trial 37 finished with value: 0.016270242631435394 and parameters: {'batch_size': 32, 'n_layers': 2, 'dropout_rate': 0.1757824612526719, 'activation': 'tanh', 'reg_type': 'none', 'n_units_l0': 128, 'n_units_l1': 448, 'learning_rate': 0.0011594324465893412}. Best is trial 12 with value: 0.0025395669508725405.\n",
            "[I 2025-05-22 10:00:34,752] Trial 38 finished with value: 1.8419227600097656 and parameters: {'batch_size': 256, 'n_layers': 4, 'dropout_rate': 0.49883951879112554, 'activation': 'relu', 'reg_type': 'l1', 'reg_strength': 9.279888190553677e-05, 'n_units_l0': 256, 'n_units_l1': 256, 'n_units_l2': 384, 'n_units_l3': 512, 'learning_rate': 0.0006452897203161525}. Best is trial 12 with value: 0.0025395669508725405.\n",
            "[I 2025-05-22 10:00:40,100] Trial 39 finished with value: 1.3347113132476807 and parameters: {'batch_size': 512, 'n_layers': 1, 'dropout_rate': 0.14317472002742795, 'activation': 'elu', 'reg_type': 'l1_l2', 'reg_strength': 0.00044010679266981743, 'n_units_l0': 320, 'learning_rate': 0.003808308502439878}. Best is trial 12 with value: 0.0025395669508725405.\n",
            "[I 2025-05-22 10:00:59,558] Trial 40 finished with value: 0.0033403211273252964 and parameters: {'batch_size': 64, 'n_layers': 3, 'dropout_rate': 0.11848983680227153, 'activation': 'elu', 'reg_type': 'none', 'n_units_l0': 512, 'n_units_l1': 512, 'n_units_l2': 128, 'learning_rate': 0.006805230523886396}. Best is trial 12 with value: 0.0025395669508725405.\n",
            "[I 2025-05-22 10:01:15,995] Trial 41 finished with value: 0.004037653096020222 and parameters: {'batch_size': 64, 'n_layers': 3, 'dropout_rate': 0.11816919077200085, 'activation': 'elu', 'reg_type': 'none', 'n_units_l0': 512, 'n_units_l1': 512, 'n_units_l2': 128, 'learning_rate': 0.00660534574253114}. Best is trial 12 with value: 0.0025395669508725405.\n",
            "[I 2025-05-22 10:01:31,489] Trial 42 finished with value: 0.00556412898004055 and parameters: {'batch_size': 64, 'n_layers': 3, 'dropout_rate': 0.11939771698011284, 'activation': 'elu', 'reg_type': 'none', 'n_units_l0': 512, 'n_units_l1': 512, 'n_units_l2': 128, 'learning_rate': 0.0062896857090166}. Best is trial 12 with value: 0.0025395669508725405.\n",
            "[I 2025-05-22 10:01:42,698] Trial 43 finished with value: 0.03664587810635567 and parameters: {'batch_size': 64, 'n_layers': 3, 'dropout_rate': 0.1557412159037303, 'activation': 'elu', 'reg_type': 'none', 'n_units_l0': 512, 'n_units_l1': 512, 'n_units_l2': 192, 'learning_rate': 0.0037824845232093344}. Best is trial 12 with value: 0.0025395669508725405.\n",
            "[I 2025-05-22 10:01:58,835] Trial 44 finished with value: 0.006366657558828592 and parameters: {'batch_size': 64, 'n_layers': 3, 'dropout_rate': 0.18170274272391213, 'activation': 'elu', 'reg_type': 'none', 'n_units_l0': 448, 'n_units_l1': 448, 'n_units_l2': 128, 'learning_rate': 0.0017418319203450763}. Best is trial 12 with value: 0.0025395669508725405.\n",
            "[I 2025-05-22 10:02:21,296] Trial 45 finished with value: 0.3683617115020752 and parameters: {'batch_size': 64, 'n_layers': 3, 'dropout_rate': 0.1389247821403064, 'activation': 'elu', 'reg_type': 'l1_l2', 'reg_strength': 7.695598493364034e-05, 'n_units_l0': 512, 'n_units_l1': 512, 'n_units_l2': 128, 'learning_rate': 0.00650588744079218}. Best is trial 12 with value: 0.0025395669508725405.\n",
            "[I 2025-05-22 10:02:41,224] Trial 46 finished with value: 0.010471314191818237 and parameters: {'batch_size': 64, 'n_layers': 4, 'dropout_rate': 0.24745401567374237, 'activation': 'elu', 'reg_type': 'none', 'n_units_l0': 512, 'n_units_l1': 384, 'n_units_l2': 320, 'n_units_l3': 64, 'learning_rate': 0.00298479435549933}. Best is trial 12 with value: 0.0025395669508725405.\n",
            "[I 2025-05-22 10:02:59,359] Trial 47 finished with value: 0.030293235555291176 and parameters: {'batch_size': 64, 'n_layers': 3, 'dropout_rate': 0.4408370883438638, 'activation': 'tanh', 'reg_type': 'none', 'n_units_l0': 448, 'n_units_l1': 448, 'n_units_l2': 192, 'learning_rate': 0.005359239330028059}. Best is trial 12 with value: 0.0025395669508725405.\n",
            "[I 2025-05-22 10:03:15,832] Trial 48 finished with value: 0.01687628962099552 and parameters: {'batch_size': 64, 'n_layers': 3, 'dropout_rate': 0.21719013173290674, 'activation': 'selu', 'reg_type': 'none', 'n_units_l0': 512, 'n_units_l1': 448, 'n_units_l2': 64, 'learning_rate': 0.0009801819768340471}. Best is trial 12 with value: 0.0025395669508725405.\n",
            "[I 2025-05-22 10:03:39,045] Trial 49 finished with value: 3.057840347290039 and parameters: {'batch_size': 64, 'n_layers': 4, 'dropout_rate': 0.11508103337259541, 'activation': 'elu', 'reg_type': 'l1_l2', 'reg_strength': 0.0027354835817264616, 'n_units_l0': 448, 'n_units_l1': 512, 'n_units_l2': 320, 'n_units_l3': 256, 'learning_rate': 0.007407234510585418}. Best is trial 12 with value: 0.0025395669508725405.\n"
          ]
        }
      ]
    },
    {
      "cell_type": "markdown",
      "source": [
        "Выполним компиляцию модели и приступим к обучению модели, сопоставив те параметры, которые были подобраны **Optuna**:"
      ],
      "metadata": {
        "id": "qNpnkdMFGP1p"
      }
    },
    {
      "cell_type": "code",
      "source": [
        "best_model.compile(\n",
        "    optimizer=Adam(learning_rate=study.best_params['learning_rate']),\n",
        "    loss='mse',\n",
        "    metrics=['mae']\n",
        ")\n",
        "\n",
        "print(f\"Общий размер датасета: {len(x_all)} примеров\")\n",
        "print(f\"Обучающая выборка: {len(x_train)} примеров ({len(x_train)/len(x_all)*100:.1f}%)\")\n",
        "print(f\"Валидационная выборка: {len(x_val)} примеров ({len(x_val)/len(x_all)*100:.1f}%)\")\n",
        "print(f\"Тестовая выборка: {len(x_test)} примеров ({len(x_test)/len(x_all)*100:.1f}%)\")\n",
        "\n",
        "\n",
        "history = best_model.fit(\n",
        "    x_train_scaled,\n",
        "    y_train_scaled,\n",
        "    validation_data=(x_val_scaled, y_val_scaled),\n",
        "    batch_size=study.best_params['batch_size'],\n",
        "    epochs=300,\n",
        "    verbose=1,\n",
        "    callbacks=[\n",
        "        EarlyStopping(patience=25, monitor='val_loss', restore_best_weights=True),\n",
        "        ReduceLROnPlateau(monitor='val_loss', factor=0.5, patience=10, min_lr=1e-6)\n",
        "    ],\n",
        "    shuffle=True\n",
        ")"
      ],
      "metadata": {
        "id": "CfJqj4G-ZD60",
        "colab": {
          "base_uri": "https://localhost:8080/"
        },
        "outputId": "3b00e6fb-3a35-450c-aa23-409d256bcdd4"
      },
      "execution_count": null,
      "outputs": [
        {
          "output_type": "stream",
          "name": "stdout",
          "text": [
            "Общий размер датасета: 669 примеров\n",
            "Обучающая выборка: 468 примеров (70.0%)\n",
            "Валидационная выборка: 100 примеров (14.9%)\n",
            "Тестовая выборка: 101 примеров (15.1%)\n",
            "Epoch 1/300\n",
            "\u001b[1m15/15\u001b[0m \u001b[32m━━━━━━━━━━━━━━━━━━━━\u001b[0m\u001b[37m\u001b[0m \u001b[1m3s\u001b[0m 96ms/step - loss: 2.7533 - mae: 1.2980 - val_loss: 0.4243 - val_mae: 0.5192 - learning_rate: 0.0042\n",
            "Epoch 2/300\n",
            "\u001b[1m15/15\u001b[0m \u001b[32m━━━━━━━━━━━━━━━━━━━━\u001b[0m\u001b[37m\u001b[0m \u001b[1m0s\u001b[0m 7ms/step - loss: 1.9024 - mae: 0.8646 - val_loss: 0.3387 - val_mae: 0.4790 - learning_rate: 0.0042\n",
            "Epoch 3/300\n",
            "\u001b[1m15/15\u001b[0m \u001b[32m━━━━━━━━━━━━━━━━━━━━\u001b[0m\u001b[37m\u001b[0m \u001b[1m0s\u001b[0m 6ms/step - loss: 0.6118 - mae: 0.5940 - val_loss: 0.2688 - val_mae: 0.4377 - learning_rate: 0.0042\n",
            "Epoch 4/300\n",
            "\u001b[1m15/15\u001b[0m \u001b[32m━━━━━━━━━━━━━━━━━━━━\u001b[0m\u001b[37m\u001b[0m \u001b[1m0s\u001b[0m 9ms/step - loss: 0.3150 - mae: 0.4329 - val_loss: 0.2604 - val_mae: 0.4212 - learning_rate: 0.0042\n",
            "Epoch 5/300\n",
            "\u001b[1m15/15\u001b[0m \u001b[32m━━━━━━━━━━━━━━━━━━━━\u001b[0m\u001b[37m\u001b[0m \u001b[1m0s\u001b[0m 6ms/step - loss: 0.2979 - mae: 0.4258 - val_loss: 0.1529 - val_mae: 0.3259 - learning_rate: 0.0042\n",
            "Epoch 6/300\n",
            "\u001b[1m15/15\u001b[0m \u001b[32m━━━━━━━━━━━━━━━━━━━━\u001b[0m\u001b[37m\u001b[0m \u001b[1m0s\u001b[0m 6ms/step - loss: 0.2428 - mae: 0.3799 - val_loss: 0.1355 - val_mae: 0.3064 - learning_rate: 0.0042\n",
            "Epoch 7/300\n",
            "\u001b[1m15/15\u001b[0m \u001b[32m━━━━━━━━━━━━━━━━━━━━\u001b[0m\u001b[37m\u001b[0m \u001b[1m0s\u001b[0m 6ms/step - loss: 0.2284 - mae: 0.3698 - val_loss: 0.1502 - val_mae: 0.3272 - learning_rate: 0.0042\n",
            "Epoch 8/300\n",
            "\u001b[1m15/15\u001b[0m \u001b[32m━━━━━━━━━━━━━━━━━━━━\u001b[0m\u001b[37m\u001b[0m \u001b[1m0s\u001b[0m 7ms/step - loss: 0.1723 - mae: 0.3258 - val_loss: 0.0934 - val_mae: 0.2580 - learning_rate: 0.0042\n",
            "Epoch 9/300\n",
            "\u001b[1m15/15\u001b[0m \u001b[32m━━━━━━━━━━━━━━━━━━━━\u001b[0m\u001b[37m\u001b[0m \u001b[1m0s\u001b[0m 7ms/step - loss: 0.1967 - mae: 0.3434 - val_loss: 0.0842 - val_mae: 0.2396 - learning_rate: 0.0042\n",
            "Epoch 10/300\n",
            "\u001b[1m15/15\u001b[0m \u001b[32m━━━━━━━━━━━━━━━━━━━━\u001b[0m\u001b[37m\u001b[0m \u001b[1m0s\u001b[0m 7ms/step - loss: 0.1615 - mae: 0.3162 - val_loss: 0.0761 - val_mae: 0.2369 - learning_rate: 0.0042\n",
            "Epoch 11/300\n",
            "\u001b[1m15/15\u001b[0m \u001b[32m━━━━━━━━━━━━━━━━━━━━\u001b[0m\u001b[37m\u001b[0m \u001b[1m0s\u001b[0m 6ms/step - loss: 0.1328 - mae: 0.2849 - val_loss: 0.0685 - val_mae: 0.2207 - learning_rate: 0.0042\n",
            "Epoch 12/300\n",
            "\u001b[1m15/15\u001b[0m \u001b[32m━━━━━━━━━━━━━━━━━━━━\u001b[0m\u001b[37m\u001b[0m \u001b[1m0s\u001b[0m 9ms/step - loss: 0.1183 - mae: 0.2707 - val_loss: 0.0483 - val_mae: 0.1820 - learning_rate: 0.0042\n",
            "Epoch 13/300\n",
            "\u001b[1m15/15\u001b[0m \u001b[32m━━━━━━━━━━━━━━━━━━━━\u001b[0m\u001b[37m\u001b[0m \u001b[1m0s\u001b[0m 6ms/step - loss: 0.0973 - mae: 0.2471 - val_loss: 0.0672 - val_mae: 0.2102 - learning_rate: 0.0042\n",
            "Epoch 14/300\n",
            "\u001b[1m15/15\u001b[0m \u001b[32m━━━━━━━━━━━━━━━━━━━━\u001b[0m\u001b[37m\u001b[0m \u001b[1m0s\u001b[0m 7ms/step - loss: 0.1681 - mae: 0.3228 - val_loss: 0.0389 - val_mae: 0.1606 - learning_rate: 0.0042\n",
            "Epoch 15/300\n",
            "\u001b[1m15/15\u001b[0m \u001b[32m━━━━━━━━━━━━━━━━━━━━\u001b[0m\u001b[37m\u001b[0m \u001b[1m0s\u001b[0m 6ms/step - loss: 0.1331 - mae: 0.2956 - val_loss: 0.0353 - val_mae: 0.1557 - learning_rate: 0.0042\n",
            "Epoch 16/300\n",
            "\u001b[1m15/15\u001b[0m \u001b[32m━━━━━━━━━━━━━━━━━━━━\u001b[0m\u001b[37m\u001b[0m \u001b[1m0s\u001b[0m 7ms/step - loss: 0.0803 - mae: 0.2175 - val_loss: 0.0263 - val_mae: 0.1222 - learning_rate: 0.0042\n",
            "Epoch 17/300\n",
            "\u001b[1m15/15\u001b[0m \u001b[32m━━━━━━━━━━━━━━━━━━━━\u001b[0m\u001b[37m\u001b[0m \u001b[1m0s\u001b[0m 7ms/step - loss: 0.0759 - mae: 0.2142 - val_loss: 0.0183 - val_mae: 0.1074 - learning_rate: 0.0042\n",
            "Epoch 18/300\n",
            "\u001b[1m15/15\u001b[0m \u001b[32m━━━━━━━━━━━━━━━━━━━━\u001b[0m\u001b[37m\u001b[0m \u001b[1m0s\u001b[0m 7ms/step - loss: 0.0712 - mae: 0.1967 - val_loss: 0.0166 - val_mae: 0.1056 - learning_rate: 0.0042\n",
            "Epoch 19/300\n",
            "\u001b[1m15/15\u001b[0m \u001b[32m━━━━━━━━━━━━━━━━━━━━\u001b[0m\u001b[37m\u001b[0m \u001b[1m0s\u001b[0m 7ms/step - loss: 0.0656 - mae: 0.2014 - val_loss: 0.0182 - val_mae: 0.1045 - learning_rate: 0.0042\n",
            "Epoch 20/300\n",
            "\u001b[1m15/15\u001b[0m \u001b[32m━━━━━━━━━━━━━━━━━━━━\u001b[0m\u001b[37m\u001b[0m \u001b[1m0s\u001b[0m 7ms/step - loss: 0.0678 - mae: 0.2067 - val_loss: 0.0162 - val_mae: 0.0986 - learning_rate: 0.0042\n",
            "Epoch 21/300\n",
            "\u001b[1m15/15\u001b[0m \u001b[32m━━━━━━━━━━━━━━━━━━━━\u001b[0m\u001b[37m\u001b[0m \u001b[1m0s\u001b[0m 7ms/step - loss: 0.0678 - mae: 0.2019 - val_loss: 0.0111 - val_mae: 0.0877 - learning_rate: 0.0042\n",
            "Epoch 22/300\n",
            "\u001b[1m15/15\u001b[0m \u001b[32m━━━━━━━━━━━━━━━━━━━━\u001b[0m\u001b[37m\u001b[0m \u001b[1m0s\u001b[0m 9ms/step - loss: 0.0760 - mae: 0.2277 - val_loss: 0.0140 - val_mae: 0.0969 - learning_rate: 0.0042\n",
            "Epoch 23/300\n",
            "\u001b[1m15/15\u001b[0m \u001b[32m━━━━━━━━━━━━━━━━━━━━\u001b[0m\u001b[37m\u001b[0m \u001b[1m0s\u001b[0m 7ms/step - loss: 0.0686 - mae: 0.2088 - val_loss: 0.0111 - val_mae: 0.0851 - learning_rate: 0.0042\n",
            "Epoch 24/300\n",
            "\u001b[1m15/15\u001b[0m \u001b[32m━━━━━━━━━━━━━━━━━━━━\u001b[0m\u001b[37m\u001b[0m \u001b[1m0s\u001b[0m 6ms/step - loss: 0.0438 - mae: 0.1707 - val_loss: 0.0107 - val_mae: 0.0739 - learning_rate: 0.0042\n",
            "Epoch 25/300\n",
            "\u001b[1m15/15\u001b[0m \u001b[32m━━━━━━━━━━━━━━━━━━━━\u001b[0m\u001b[37m\u001b[0m \u001b[1m0s\u001b[0m 9ms/step - loss: 0.0416 - mae: 0.1588 - val_loss: 0.0089 - val_mae: 0.0731 - learning_rate: 0.0042\n",
            "Epoch 26/300\n",
            "\u001b[1m15/15\u001b[0m \u001b[32m━━━━━━━━━━━━━━━━━━━━\u001b[0m\u001b[37m\u001b[0m \u001b[1m0s\u001b[0m 7ms/step - loss: 0.0576 - mae: 0.1945 - val_loss: 0.0083 - val_mae: 0.0726 - learning_rate: 0.0042\n",
            "Epoch 27/300\n",
            "\u001b[1m15/15\u001b[0m \u001b[32m━━━━━━━━━━━━━━━━━━━━\u001b[0m\u001b[37m\u001b[0m \u001b[1m0s\u001b[0m 6ms/step - loss: 0.0453 - mae: 0.1698 - val_loss: 0.0127 - val_mae: 0.0896 - learning_rate: 0.0042\n",
            "Epoch 28/300\n",
            "\u001b[1m15/15\u001b[0m \u001b[32m━━━━━━━━━━━━━━━━━━━━\u001b[0m\u001b[37m\u001b[0m \u001b[1m0s\u001b[0m 7ms/step - loss: 0.0676 - mae: 0.2097 - val_loss: 0.0053 - val_mae: 0.0580 - learning_rate: 0.0042\n",
            "Epoch 29/300\n",
            "\u001b[1m15/15\u001b[0m \u001b[32m━━━━━━━━━━━━━━━━━━━━\u001b[0m\u001b[37m\u001b[0m \u001b[1m0s\u001b[0m 6ms/step - loss: 0.0933 - mae: 0.2447 - val_loss: 0.0278 - val_mae: 0.1341 - learning_rate: 0.0042\n",
            "Epoch 30/300\n",
            "\u001b[1m15/15\u001b[0m \u001b[32m━━━━━━━━━━━━━━━━━━━━\u001b[0m\u001b[37m\u001b[0m \u001b[1m0s\u001b[0m 6ms/step - loss: 0.0388 - mae: 0.1571 - val_loss: 0.0056 - val_mae: 0.0606 - learning_rate: 0.0042\n",
            "Epoch 31/300\n",
            "\u001b[1m15/15\u001b[0m \u001b[32m━━━━━━━━━━━━━━━━━━━━\u001b[0m\u001b[37m\u001b[0m \u001b[1m0s\u001b[0m 6ms/step - loss: 0.0429 - mae: 0.1661 - val_loss: 0.0068 - val_mae: 0.0583 - learning_rate: 0.0042\n",
            "Epoch 32/300\n",
            "\u001b[1m15/15\u001b[0m \u001b[32m━━━━━━━━━━━━━━━━━━━━\u001b[0m\u001b[37m\u001b[0m \u001b[1m0s\u001b[0m 6ms/step - loss: 0.0772 - mae: 0.2218 - val_loss: 0.0075 - val_mae: 0.0670 - learning_rate: 0.0042\n",
            "Epoch 33/300\n",
            "\u001b[1m15/15\u001b[0m \u001b[32m━━━━━━━━━━━━━━━━━━━━\u001b[0m\u001b[37m\u001b[0m \u001b[1m0s\u001b[0m 10ms/step - loss: 0.0488 - mae: 0.1734 - val_loss: 0.0051 - val_mae: 0.0576 - learning_rate: 0.0042\n",
            "Epoch 34/300\n",
            "\u001b[1m15/15\u001b[0m \u001b[32m━━━━━━━━━━━━━━━━━━━━\u001b[0m\u001b[37m\u001b[0m \u001b[1m0s\u001b[0m 7ms/step - loss: 0.0428 - mae: 0.1663 - val_loss: 0.0055 - val_mae: 0.0578 - learning_rate: 0.0042\n",
            "Epoch 35/300\n",
            "\u001b[1m15/15\u001b[0m \u001b[32m━━━━━━━━━━━━━━━━━━━━\u001b[0m\u001b[37m\u001b[0m \u001b[1m0s\u001b[0m 6ms/step - loss: 0.0305 - mae: 0.1395 - val_loss: 0.0090 - val_mae: 0.0739 - learning_rate: 0.0042\n",
            "Epoch 36/300\n",
            "\u001b[1m15/15\u001b[0m \u001b[32m━━━━━━━━━━━━━━━━━━━━\u001b[0m\u001b[37m\u001b[0m \u001b[1m0s\u001b[0m 7ms/step - loss: 0.0421 - mae: 0.1623 - val_loss: 0.0057 - val_mae: 0.0572 - learning_rate: 0.0042\n",
            "Epoch 37/300\n",
            "\u001b[1m15/15\u001b[0m \u001b[32m━━━━━━━━━━━━━━━━━━━━\u001b[0m\u001b[37m\u001b[0m \u001b[1m0s\u001b[0m 6ms/step - loss: 0.0542 - mae: 0.1973 - val_loss: 0.0072 - val_mae: 0.0669 - learning_rate: 0.0042\n",
            "Epoch 38/300\n",
            "\u001b[1m15/15\u001b[0m \u001b[32m━━━━━━━━━━━━━━━━━━━━\u001b[0m\u001b[37m\u001b[0m \u001b[1m0s\u001b[0m 11ms/step - loss: 0.0434 - mae: 0.1614 - val_loss: 0.0065 - val_mae: 0.0601 - learning_rate: 0.0042\n",
            "Epoch 39/300\n",
            "\u001b[1m15/15\u001b[0m \u001b[32m━━━━━━━━━━━━━━━━━━━━\u001b[0m\u001b[37m\u001b[0m \u001b[1m0s\u001b[0m 12ms/step - loss: 0.0481 - mae: 0.1758 - val_loss: 0.0099 - val_mae: 0.0736 - learning_rate: 0.0042\n",
            "Epoch 40/300\n",
            "\u001b[1m15/15\u001b[0m \u001b[32m━━━━━━━━━━━━━━━━━━━━\u001b[0m\u001b[37m\u001b[0m \u001b[1m0s\u001b[0m 11ms/step - loss: 0.0535 - mae: 0.1881 - val_loss: 0.0070 - val_mae: 0.0684 - learning_rate: 0.0042\n",
            "Epoch 41/300\n",
            "\u001b[1m15/15\u001b[0m \u001b[32m━━━━━━━━━━━━━━━━━━━━\u001b[0m\u001b[37m\u001b[0m \u001b[1m0s\u001b[0m 11ms/step - loss: 0.0350 - mae: 0.1403 - val_loss: 0.0086 - val_mae: 0.0758 - learning_rate: 0.0042\n",
            "Epoch 42/300\n",
            "\u001b[1m15/15\u001b[0m \u001b[32m━━━━━━━━━━━━━━━━━━━━\u001b[0m\u001b[37m\u001b[0m \u001b[1m0s\u001b[0m 11ms/step - loss: 0.0284 - mae: 0.1306 - val_loss: 0.0074 - val_mae: 0.0699 - learning_rate: 0.0042\n",
            "Epoch 43/300\n",
            "\u001b[1m15/15\u001b[0m \u001b[32m━━━━━━━━━━━━━━━━━━━━\u001b[0m\u001b[37m\u001b[0m \u001b[1m0s\u001b[0m 12ms/step - loss: 0.0694 - mae: 0.2212 - val_loss: 0.0067 - val_mae: 0.0622 - learning_rate: 0.0042\n",
            "Epoch 44/300\n",
            "\u001b[1m15/15\u001b[0m \u001b[32m━━━━━━━━━━━━━━━━━━━━\u001b[0m\u001b[37m\u001b[0m \u001b[1m0s\u001b[0m 9ms/step - loss: 0.0431 - mae: 0.1679 - val_loss: 0.0040 - val_mae: 0.0487 - learning_rate: 0.0021\n",
            "Epoch 45/300\n",
            "\u001b[1m15/15\u001b[0m \u001b[32m━━━━━━━━━━━━━━━━━━━━\u001b[0m\u001b[37m\u001b[0m \u001b[1m0s\u001b[0m 6ms/step - loss: 0.0294 - mae: 0.1368 - val_loss: 0.0033 - val_mae: 0.0399 - learning_rate: 0.0021\n",
            "Epoch 46/300\n",
            "\u001b[1m15/15\u001b[0m \u001b[32m━━━━━━━━━━━━━━━━━━━━\u001b[0m\u001b[37m\u001b[0m \u001b[1m0s\u001b[0m 7ms/step - loss: 0.0608 - mae: 0.2012 - val_loss: 0.0031 - val_mae: 0.0416 - learning_rate: 0.0021\n",
            "Epoch 47/300\n",
            "\u001b[1m15/15\u001b[0m \u001b[32m━━━━━━━━━━━━━━━━━━━━\u001b[0m\u001b[37m\u001b[0m \u001b[1m0s\u001b[0m 6ms/step - loss: 0.0389 - mae: 0.1488 - val_loss: 0.0033 - val_mae: 0.0437 - learning_rate: 0.0021\n",
            "Epoch 48/300\n",
            "\u001b[1m15/15\u001b[0m \u001b[32m━━━━━━━━━━━━━━━━━━━━\u001b[0m\u001b[37m\u001b[0m \u001b[1m0s\u001b[0m 7ms/step - loss: 0.0305 - mae: 0.1391 - val_loss: 0.0030 - val_mae: 0.0416 - learning_rate: 0.0021\n",
            "Epoch 49/300\n",
            "\u001b[1m15/15\u001b[0m \u001b[32m━━━━━━━━━━━━━━━━━━━━\u001b[0m\u001b[37m\u001b[0m \u001b[1m0s\u001b[0m 6ms/step - loss: 0.0394 - mae: 0.1606 - val_loss: 0.0032 - val_mae: 0.0440 - learning_rate: 0.0021\n",
            "Epoch 50/300\n",
            "\u001b[1m15/15\u001b[0m \u001b[32m━━━━━━━━━━━━━━━━━━━━\u001b[0m\u001b[37m\u001b[0m \u001b[1m0s\u001b[0m 6ms/step - loss: 0.0277 - mae: 0.1332 - val_loss: 0.0037 - val_mae: 0.0451 - learning_rate: 0.0021\n",
            "Epoch 51/300\n",
            "\u001b[1m15/15\u001b[0m \u001b[32m━━━━━━━━━━━━━━━━━━━━\u001b[0m\u001b[37m\u001b[0m \u001b[1m0s\u001b[0m 6ms/step - loss: 0.0358 - mae: 0.1519 - val_loss: 0.0024 - val_mae: 0.0366 - learning_rate: 0.0021\n",
            "Epoch 52/300\n",
            "\u001b[1m15/15\u001b[0m \u001b[32m━━━━━━━━━━━━━━━━━━━━\u001b[0m\u001b[37m\u001b[0m \u001b[1m0s\u001b[0m 6ms/step - loss: 0.0362 - mae: 0.1492 - val_loss: 0.0044 - val_mae: 0.0524 - learning_rate: 0.0021\n",
            "Epoch 53/300\n",
            "\u001b[1m15/15\u001b[0m \u001b[32m━━━━━━━━━━━━━━━━━━━━\u001b[0m\u001b[37m\u001b[0m \u001b[1m0s\u001b[0m 6ms/step - loss: 0.0375 - mae: 0.1482 - val_loss: 0.0022 - val_mae: 0.0356 - learning_rate: 0.0021\n",
            "Epoch 54/300\n",
            "\u001b[1m15/15\u001b[0m \u001b[32m━━━━━━━━━━━━━━━━━━━━\u001b[0m\u001b[37m\u001b[0m \u001b[1m0s\u001b[0m 6ms/step - loss: 0.0303 - mae: 0.1457 - val_loss: 0.0046 - val_mae: 0.0462 - learning_rate: 0.0021\n",
            "Epoch 55/300\n",
            "\u001b[1m15/15\u001b[0m \u001b[32m━━━━━━━━━━━━━━━━━━━━\u001b[0m\u001b[37m\u001b[0m \u001b[1m0s\u001b[0m 6ms/step - loss: 0.0376 - mae: 0.1588 - val_loss: 0.0042 - val_mae: 0.0444 - learning_rate: 0.0021\n",
            "Epoch 56/300\n",
            "\u001b[1m15/15\u001b[0m \u001b[32m━━━━━━━━━━━━━━━━━━━━\u001b[0m\u001b[37m\u001b[0m \u001b[1m0s\u001b[0m 9ms/step - loss: 0.0611 - mae: 0.2049 - val_loss: 0.0026 - val_mae: 0.0383 - learning_rate: 0.0021\n",
            "Epoch 57/300\n",
            "\u001b[1m15/15\u001b[0m \u001b[32m━━━━━━━━━━━━━━━━━━━━\u001b[0m\u001b[37m\u001b[0m \u001b[1m0s\u001b[0m 7ms/step - loss: 0.0328 - mae: 0.1422 - val_loss: 0.0036 - val_mae: 0.0455 - learning_rate: 0.0021\n",
            "Epoch 58/300\n",
            "\u001b[1m15/15\u001b[0m \u001b[32m━━━━━━━━━━━━━━━━━━━━\u001b[0m\u001b[37m\u001b[0m \u001b[1m0s\u001b[0m 6ms/step - loss: 0.0450 - mae: 0.1635 - val_loss: 0.0069 - val_mae: 0.0596 - learning_rate: 0.0021\n",
            "Epoch 59/300\n",
            "\u001b[1m15/15\u001b[0m \u001b[32m━━━━━━━━━━━━━━━━━━━━\u001b[0m\u001b[37m\u001b[0m \u001b[1m0s\u001b[0m 6ms/step - loss: 0.0566 - mae: 0.1742 - val_loss: 0.0091 - val_mae: 0.0751 - learning_rate: 0.0021\n",
            "Epoch 60/300\n",
            "\u001b[1m15/15\u001b[0m \u001b[32m━━━━━━━━━━━━━━━━━━━━\u001b[0m\u001b[37m\u001b[0m \u001b[1m0s\u001b[0m 6ms/step - loss: 0.0374 - mae: 0.1494 - val_loss: 0.0035 - val_mae: 0.0461 - learning_rate: 0.0021\n",
            "Epoch 61/300\n",
            "\u001b[1m15/15\u001b[0m \u001b[32m━━━━━━━━━━━━━━━━━━━━\u001b[0m\u001b[37m\u001b[0m \u001b[1m0s\u001b[0m 6ms/step - loss: 0.0424 - mae: 0.1640 - val_loss: 0.0034 - val_mae: 0.0412 - learning_rate: 0.0021\n",
            "Epoch 62/300\n",
            "\u001b[1m15/15\u001b[0m \u001b[32m━━━━━━━━━━━━━━━━━━━━\u001b[0m\u001b[37m\u001b[0m \u001b[1m0s\u001b[0m 6ms/step - loss: 0.0448 - mae: 0.1670 - val_loss: 0.0035 - val_mae: 0.0449 - learning_rate: 0.0021\n",
            "Epoch 63/300\n",
            "\u001b[1m15/15\u001b[0m \u001b[32m━━━━━━━━━━━━━━━━━━━━\u001b[0m\u001b[37m\u001b[0m \u001b[1m0s\u001b[0m 6ms/step - loss: 0.0473 - mae: 0.1794 - val_loss: 0.0031 - val_mae: 0.0424 - learning_rate: 0.0021\n",
            "Epoch 64/300\n",
            "\u001b[1m15/15\u001b[0m \u001b[32m━━━━━━━━━━━━━━━━━━━━\u001b[0m\u001b[37m\u001b[0m \u001b[1m0s\u001b[0m 7ms/step - loss: 0.0335 - mae: 0.1476 - val_loss: 0.0052 - val_mae: 0.0525 - learning_rate: 0.0010\n",
            "Epoch 65/300\n",
            "\u001b[1m15/15\u001b[0m \u001b[32m━━━━━━━━━━━━━━━━━━━━\u001b[0m\u001b[37m\u001b[0m \u001b[1m0s\u001b[0m 7ms/step - loss: 0.0656 - mae: 0.2027 - val_loss: 0.0034 - val_mae: 0.0402 - learning_rate: 0.0010\n",
            "Epoch 66/300\n",
            "\u001b[1m15/15\u001b[0m \u001b[32m━━━━━━━━━━━━━━━━━━━━\u001b[0m\u001b[37m\u001b[0m \u001b[1m0s\u001b[0m 6ms/step - loss: 0.0173 - mae: 0.0993 - val_loss: 0.0043 - val_mae: 0.0441 - learning_rate: 0.0010\n",
            "Epoch 67/300\n",
            "\u001b[1m15/15\u001b[0m \u001b[32m━━━━━━━━━━━━━━━━━━━━\u001b[0m\u001b[37m\u001b[0m \u001b[1m0s\u001b[0m 6ms/step - loss: 0.0534 - mae: 0.1904 - val_loss: 0.0026 - val_mae: 0.0340 - learning_rate: 0.0010\n",
            "Epoch 68/300\n",
            "\u001b[1m15/15\u001b[0m \u001b[32m━━━━━━━━━━━━━━━━━━━━\u001b[0m\u001b[37m\u001b[0m \u001b[1m0s\u001b[0m 6ms/step - loss: 0.0253 - mae: 0.1340 - val_loss: 0.0030 - val_mae: 0.0386 - learning_rate: 0.0010\n",
            "Epoch 69/300\n",
            "\u001b[1m15/15\u001b[0m \u001b[32m━━━━━━━━━━━━━━━━━━━━\u001b[0m\u001b[37m\u001b[0m \u001b[1m0s\u001b[0m 6ms/step - loss: 0.0739 - mae: 0.2154 - val_loss: 0.0025 - val_mae: 0.0355 - learning_rate: 0.0010\n",
            "Epoch 70/300\n",
            "\u001b[1m15/15\u001b[0m \u001b[32m━━━━━━━━━━━━━━━━━━━━\u001b[0m\u001b[37m\u001b[0m \u001b[1m0s\u001b[0m 6ms/step - loss: 0.0344 - mae: 0.1524 - val_loss: 0.0018 - val_mae: 0.0314 - learning_rate: 0.0010\n",
            "Epoch 71/300\n",
            "\u001b[1m15/15\u001b[0m \u001b[32m━━━━━━━━━━━━━━━━━━━━\u001b[0m\u001b[37m\u001b[0m \u001b[1m0s\u001b[0m 6ms/step - loss: 0.0359 - mae: 0.1479 - val_loss: 0.0024 - val_mae: 0.0355 - learning_rate: 0.0010\n",
            "Epoch 72/300\n",
            "\u001b[1m15/15\u001b[0m \u001b[32m━━━━━━━━━━━━━━━━━━━━\u001b[0m\u001b[37m\u001b[0m \u001b[1m0s\u001b[0m 10ms/step - loss: 0.0284 - mae: 0.1355 - val_loss: 0.0019 - val_mae: 0.0324 - learning_rate: 0.0010\n",
            "Epoch 73/300\n",
            "\u001b[1m15/15\u001b[0m \u001b[32m━━━━━━━━━━━━━━━━━━━━\u001b[0m\u001b[37m\u001b[0m \u001b[1m0s\u001b[0m 6ms/step - loss: 0.0312 - mae: 0.1406 - val_loss: 0.0033 - val_mae: 0.0461 - learning_rate: 0.0010\n",
            "Epoch 74/300\n",
            "\u001b[1m15/15\u001b[0m \u001b[32m━━━━━━━━━━━━━━━━━━━━\u001b[0m\u001b[37m\u001b[0m \u001b[1m0s\u001b[0m 7ms/step - loss: 0.0471 - mae: 0.1725 - val_loss: 0.0015 - val_mae: 0.0311 - learning_rate: 0.0010\n",
            "Epoch 75/300\n",
            "\u001b[1m15/15\u001b[0m \u001b[32m━━━━━━━━━━━━━━━━━━━━\u001b[0m\u001b[37m\u001b[0m \u001b[1m0s\u001b[0m 6ms/step - loss: 0.0253 - mae: 0.1304 - val_loss: 0.0020 - val_mae: 0.0356 - learning_rate: 0.0010\n",
            "Epoch 76/300\n",
            "\u001b[1m15/15\u001b[0m \u001b[32m━━━━━━━━━━━━━━━━━━━━\u001b[0m\u001b[37m\u001b[0m \u001b[1m0s\u001b[0m 6ms/step - loss: 0.0585 - mae: 0.1876 - val_loss: 0.0027 - val_mae: 0.0392 - learning_rate: 0.0010\n",
            "Epoch 77/300\n",
            "\u001b[1m15/15\u001b[0m \u001b[32m━━━━━━━━━━━━━━━━━━━━\u001b[0m\u001b[37m\u001b[0m \u001b[1m0s\u001b[0m 6ms/step - loss: 0.0338 - mae: 0.1501 - val_loss: 0.0026 - val_mae: 0.0359 - learning_rate: 0.0010\n",
            "Epoch 78/300\n",
            "\u001b[1m15/15\u001b[0m \u001b[32m━━━━━━━━━━━━━━━━━━━━\u001b[0m\u001b[37m\u001b[0m \u001b[1m0s\u001b[0m 6ms/step - loss: 0.0394 - mae: 0.1583 - val_loss: 0.0022 - val_mae: 0.0324 - learning_rate: 0.0010\n",
            "Epoch 79/300\n",
            "\u001b[1m15/15\u001b[0m \u001b[32m━━━━━━━━━━━━━━━━━━━━\u001b[0m\u001b[37m\u001b[0m \u001b[1m0s\u001b[0m 7ms/step - loss: 0.0327 - mae: 0.1524 - val_loss: 0.0018 - val_mae: 0.0310 - learning_rate: 0.0010\n",
            "Epoch 80/300\n",
            "\u001b[1m15/15\u001b[0m \u001b[32m━━━━━━━━━━━━━━━━━━━━\u001b[0m\u001b[37m\u001b[0m \u001b[1m0s\u001b[0m 6ms/step - loss: 0.0160 - mae: 0.0978 - val_loss: 0.0028 - val_mae: 0.0401 - learning_rate: 0.0010\n",
            "Epoch 81/300\n",
            "\u001b[1m15/15\u001b[0m \u001b[32m━━━━━━━━━━━━━━━━━━━━\u001b[0m\u001b[37m\u001b[0m \u001b[1m0s\u001b[0m 6ms/step - loss: 0.0467 - mae: 0.1793 - val_loss: 0.0019 - val_mae: 0.0346 - learning_rate: 0.0010\n",
            "Epoch 82/300\n",
            "\u001b[1m15/15\u001b[0m \u001b[32m━━━━━━━━━━━━━━━━━━━━\u001b[0m\u001b[37m\u001b[0m \u001b[1m0s\u001b[0m 9ms/step - loss: 0.0334 - mae: 0.1430 - val_loss: 0.0042 - val_mae: 0.0500 - learning_rate: 0.0010\n",
            "Epoch 83/300\n",
            "\u001b[1m15/15\u001b[0m \u001b[32m━━━━━━━━━━━━━━━━━━━━\u001b[0m\u001b[37m\u001b[0m \u001b[1m0s\u001b[0m 7ms/step - loss: 0.0182 - mae: 0.1053 - val_loss: 0.0015 - val_mae: 0.0287 - learning_rate: 0.0010\n",
            "Epoch 84/300\n",
            "\u001b[1m15/15\u001b[0m \u001b[32m━━━━━━━━━━━━━━━━━━━━\u001b[0m\u001b[37m\u001b[0m \u001b[1m0s\u001b[0m 6ms/step - loss: 0.0468 - mae: 0.1791 - val_loss: 0.0021 - val_mae: 0.0318 - learning_rate: 0.0010\n",
            "Epoch 85/300\n",
            "\u001b[1m15/15\u001b[0m \u001b[32m━━━━━━━━━━━━━━━━━━━━\u001b[0m\u001b[37m\u001b[0m \u001b[1m0s\u001b[0m 7ms/step - loss: 0.0420 - mae: 0.1702 - val_loss: 0.0019 - val_mae: 0.0334 - learning_rate: 5.2461e-04\n",
            "Epoch 86/300\n",
            "\u001b[1m15/15\u001b[0m \u001b[32m━━━━━━━━━━━━━━━━━━━━\u001b[0m\u001b[37m\u001b[0m \u001b[1m0s\u001b[0m 9ms/step - loss: 0.0457 - mae: 0.1638 - val_loss: 0.0014 - val_mae: 0.0277 - learning_rate: 5.2461e-04\n",
            "Epoch 87/300\n",
            "\u001b[1m15/15\u001b[0m \u001b[32m━━━━━━━━━━━━━━━━━━━━\u001b[0m\u001b[37m\u001b[0m \u001b[1m0s\u001b[0m 6ms/step - loss: 0.0497 - mae: 0.1781 - val_loss: 0.0014 - val_mae: 0.0291 - learning_rate: 5.2461e-04\n",
            "Epoch 88/300\n",
            "\u001b[1m15/15\u001b[0m \u001b[32m━━━━━━━━━━━━━━━━━━━━\u001b[0m\u001b[37m\u001b[0m \u001b[1m0s\u001b[0m 6ms/step - loss: 0.0470 - mae: 0.1654 - val_loss: 0.0028 - val_mae: 0.0397 - learning_rate: 5.2461e-04\n",
            "Epoch 89/300\n",
            "\u001b[1m15/15\u001b[0m \u001b[32m━━━━━━━━━━━━━━━━━━━━\u001b[0m\u001b[37m\u001b[0m \u001b[1m0s\u001b[0m 6ms/step - loss: 0.0269 - mae: 0.1361 - val_loss: 0.0017 - val_mae: 0.0290 - learning_rate: 5.2461e-04\n",
            "Epoch 90/300\n",
            "\u001b[1m15/15\u001b[0m \u001b[32m━━━━━━━━━━━━━━━━━━━━\u001b[0m\u001b[37m\u001b[0m \u001b[1m0s\u001b[0m 9ms/step - loss: 0.0218 - mae: 0.1181 - val_loss: 0.0022 - val_mae: 0.0354 - learning_rate: 5.2461e-04\n",
            "Epoch 91/300\n",
            "\u001b[1m15/15\u001b[0m \u001b[32m━━━━━━━━━━━━━━━━━━━━\u001b[0m\u001b[37m\u001b[0m \u001b[1m0s\u001b[0m 7ms/step - loss: 0.0502 - mae: 0.1725 - val_loss: 0.0016 - val_mae: 0.0294 - learning_rate: 5.2461e-04\n",
            "Epoch 92/300\n",
            "\u001b[1m15/15\u001b[0m \u001b[32m━━━━━━━━━━━━━━━━━━━━\u001b[0m\u001b[37m\u001b[0m \u001b[1m0s\u001b[0m 6ms/step - loss: 0.0191 - mae: 0.1110 - val_loss: 0.0020 - val_mae: 0.0343 - learning_rate: 5.2461e-04\n",
            "Epoch 93/300\n",
            "\u001b[1m15/15\u001b[0m \u001b[32m━━━━━━━━━━━━━━━━━━━━\u001b[0m\u001b[37m\u001b[0m \u001b[1m0s\u001b[0m 6ms/step - loss: 0.0481 - mae: 0.1745 - val_loss: 0.0020 - val_mae: 0.0343 - learning_rate: 5.2461e-04\n",
            "Epoch 94/300\n",
            "\u001b[1m15/15\u001b[0m \u001b[32m━━━━━━━━━━━━━━━━━━━━\u001b[0m\u001b[37m\u001b[0m \u001b[1m0s\u001b[0m 7ms/step - loss: 0.0306 - mae: 0.1373 - val_loss: 0.0017 - val_mae: 0.0302 - learning_rate: 5.2461e-04\n",
            "Epoch 95/300\n",
            "\u001b[1m15/15\u001b[0m \u001b[32m━━━━━━━━━━━━━━━━━━━━\u001b[0m\u001b[37m\u001b[0m \u001b[1m0s\u001b[0m 6ms/step - loss: 0.0348 - mae: 0.1567 - val_loss: 0.0017 - val_mae: 0.0327 - learning_rate: 5.2461e-04\n",
            "Epoch 96/300\n",
            "\u001b[1m15/15\u001b[0m \u001b[32m━━━━━━━━━━━━━━━━━━━━\u001b[0m\u001b[37m\u001b[0m \u001b[1m0s\u001b[0m 9ms/step - loss: 0.0285 - mae: 0.1392 - val_loss: 9.0833e-04 - val_mae: 0.0239 - learning_rate: 5.2461e-04\n",
            "Epoch 97/300\n",
            "\u001b[1m15/15\u001b[0m \u001b[32m━━━━━━━━━━━━━━━━━━━━\u001b[0m\u001b[37m\u001b[0m \u001b[1m0s\u001b[0m 6ms/step - loss: 0.0400 - mae: 0.1515 - val_loss: 0.0022 - val_mae: 0.0374 - learning_rate: 5.2461e-04\n",
            "Epoch 98/300\n",
            "\u001b[1m15/15\u001b[0m \u001b[32m━━━━━━━━━━━━━━━━━━━━\u001b[0m\u001b[37m\u001b[0m \u001b[1m0s\u001b[0m 6ms/step - loss: 0.0528 - mae: 0.1798 - val_loss: 0.0014 - val_mae: 0.0290 - learning_rate: 5.2461e-04\n",
            "Epoch 99/300\n",
            "\u001b[1m15/15\u001b[0m \u001b[32m━━━━━━━━━━━━━━━━━━━━\u001b[0m\u001b[37m\u001b[0m \u001b[1m0s\u001b[0m 9ms/step - loss: 0.0178 - mae: 0.1057 - val_loss: 0.0014 - val_mae: 0.0271 - learning_rate: 5.2461e-04\n",
            "Epoch 100/300\n",
            "\u001b[1m15/15\u001b[0m \u001b[32m━━━━━━━━━━━━━━━━━━━━\u001b[0m\u001b[37m\u001b[0m \u001b[1m0s\u001b[0m 6ms/step - loss: 0.0535 - mae: 0.2001 - val_loss: 0.0015 - val_mae: 0.0278 - learning_rate: 5.2461e-04\n",
            "Epoch 101/300\n",
            "\u001b[1m15/15\u001b[0m \u001b[32m━━━━━━━━━━━━━━━━━━━━\u001b[0m\u001b[37m\u001b[0m \u001b[1m0s\u001b[0m 7ms/step - loss: 0.0346 - mae: 0.1559 - val_loss: 0.0018 - val_mae: 0.0315 - learning_rate: 5.2461e-04\n",
            "Epoch 102/300\n",
            "\u001b[1m15/15\u001b[0m \u001b[32m━━━━━━━━━━━━━━━━━━━━\u001b[0m\u001b[37m\u001b[0m \u001b[1m0s\u001b[0m 7ms/step - loss: 0.0319 - mae: 0.1447 - val_loss: 0.0017 - val_mae: 0.0299 - learning_rate: 5.2461e-04\n",
            "Epoch 103/300\n",
            "\u001b[1m15/15\u001b[0m \u001b[32m━━━━━━━━━━━━━━━━━━━━\u001b[0m\u001b[37m\u001b[0m \u001b[1m0s\u001b[0m 6ms/step - loss: 0.0399 - mae: 0.1515 - val_loss: 0.0024 - val_mae: 0.0378 - learning_rate: 5.2461e-04\n",
            "Epoch 104/300\n",
            "\u001b[1m15/15\u001b[0m \u001b[32m━━━━━━━━━━━━━━━━━━━━\u001b[0m\u001b[37m\u001b[0m \u001b[1m0s\u001b[0m 7ms/step - loss: 0.0203 - mae: 0.1105 - val_loss: 0.0015 - val_mae: 0.0288 - learning_rate: 5.2461e-04\n",
            "Epoch 105/300\n",
            "\u001b[1m15/15\u001b[0m \u001b[32m━━━━━━━━━━━━━━━━━━━━\u001b[0m\u001b[37m\u001b[0m \u001b[1m0s\u001b[0m 6ms/step - loss: 0.0518 - mae: 0.1924 - val_loss: 0.0023 - val_mae: 0.0335 - learning_rate: 5.2461e-04\n",
            "Epoch 106/300\n",
            "\u001b[1m15/15\u001b[0m \u001b[32m━━━━━━━━━━━━━━━━━━━━\u001b[0m\u001b[37m\u001b[0m \u001b[1m0s\u001b[0m 6ms/step - loss: 0.0337 - mae: 0.1518 - val_loss: 0.0021 - val_mae: 0.0317 - learning_rate: 5.2461e-04\n",
            "Epoch 107/300\n",
            "\u001b[1m15/15\u001b[0m \u001b[32m━━━━━━━━━━━━━━━━━━━━\u001b[0m\u001b[37m\u001b[0m \u001b[1m0s\u001b[0m 6ms/step - loss: 0.0347 - mae: 0.1534 - val_loss: 0.0015 - val_mae: 0.0270 - learning_rate: 2.6230e-04\n",
            "Epoch 108/300\n",
            "\u001b[1m15/15\u001b[0m \u001b[32m━━━━━━━━━━━━━━━━━━━━\u001b[0m\u001b[37m\u001b[0m \u001b[1m0s\u001b[0m 7ms/step - loss: 0.0300 - mae: 0.1398 - val_loss: 0.0016 - val_mae: 0.0280 - learning_rate: 2.6230e-04\n",
            "Epoch 109/300\n",
            "\u001b[1m15/15\u001b[0m \u001b[32m━━━━━━━━━━━━━━━━━━━━\u001b[0m\u001b[37m\u001b[0m \u001b[1m0s\u001b[0m 7ms/step - loss: 0.0261 - mae: 0.1238 - val_loss: 0.0013 - val_mae: 0.0250 - learning_rate: 2.6230e-04\n",
            "Epoch 110/300\n",
            "\u001b[1m15/15\u001b[0m \u001b[32m━━━━━━━━━━━━━━━━━━━━\u001b[0m\u001b[37m\u001b[0m \u001b[1m0s\u001b[0m 7ms/step - loss: 0.0441 - mae: 0.1685 - val_loss: 0.0016 - val_mae: 0.0303 - learning_rate: 2.6230e-04\n",
            "Epoch 111/300\n",
            "\u001b[1m15/15\u001b[0m \u001b[32m━━━━━━━━━━━━━━━━━━━━\u001b[0m\u001b[37m\u001b[0m \u001b[1m0s\u001b[0m 6ms/step - loss: 0.0394 - mae: 0.1670 - val_loss: 0.0012 - val_mae: 0.0254 - learning_rate: 2.6230e-04\n",
            "Epoch 112/300\n",
            "\u001b[1m15/15\u001b[0m \u001b[32m━━━━━━━━━━━━━━━━━━━━\u001b[0m\u001b[37m\u001b[0m \u001b[1m0s\u001b[0m 7ms/step - loss: 0.0254 - mae: 0.1175 - val_loss: 0.0011 - val_mae: 0.0247 - learning_rate: 2.6230e-04\n",
            "Epoch 113/300\n",
            "\u001b[1m15/15\u001b[0m \u001b[32m━━━━━━━━━━━━━━━━━━━━\u001b[0m\u001b[37m\u001b[0m \u001b[1m0s\u001b[0m 6ms/step - loss: 0.0541 - mae: 0.1671 - val_loss: 0.0013 - val_mae: 0.0267 - learning_rate: 2.6230e-04\n",
            "Epoch 114/300\n",
            "\u001b[1m15/15\u001b[0m \u001b[32m━━━━━━━━━━━━━━━━━━━━\u001b[0m\u001b[37m\u001b[0m \u001b[1m0s\u001b[0m 6ms/step - loss: 0.0681 - mae: 0.1972 - val_loss: 0.0021 - val_mae: 0.0351 - learning_rate: 2.6230e-04\n",
            "Epoch 115/300\n",
            "\u001b[1m15/15\u001b[0m \u001b[32m━━━━━━━━━━━━━━━━━━━━\u001b[0m\u001b[37m\u001b[0m \u001b[1m0s\u001b[0m 6ms/step - loss: 0.0226 - mae: 0.1182 - val_loss: 0.0013 - val_mae: 0.0266 - learning_rate: 2.6230e-04\n",
            "Epoch 116/300\n",
            "\u001b[1m15/15\u001b[0m \u001b[32m━━━━━━━━━━━━━━━━━━━━\u001b[0m\u001b[37m\u001b[0m \u001b[1m0s\u001b[0m 9ms/step - loss: 0.0289 - mae: 0.1402 - val_loss: 0.0017 - val_mae: 0.0297 - learning_rate: 2.6230e-04\n",
            "Epoch 117/300\n",
            "\u001b[1m15/15\u001b[0m \u001b[32m━━━━━━━━━━━━━━━━━━━━\u001b[0m\u001b[37m\u001b[0m \u001b[1m0s\u001b[0m 9ms/step - loss: 0.0486 - mae: 0.1826 - val_loss: 0.0019 - val_mae: 0.0320 - learning_rate: 1.3115e-04\n",
            "Epoch 118/300\n",
            "\u001b[1m15/15\u001b[0m \u001b[32m━━━━━━━━━━━━━━━━━━━━\u001b[0m\u001b[37m\u001b[0m \u001b[1m0s\u001b[0m 12ms/step - loss: 0.0287 - mae: 0.1349 - val_loss: 0.0014 - val_mae: 0.0266 - learning_rate: 1.3115e-04\n",
            "Epoch 119/300\n",
            "\u001b[1m15/15\u001b[0m \u001b[32m━━━━━━━━━━━━━━━━━━━━\u001b[0m\u001b[37m\u001b[0m \u001b[1m0s\u001b[0m 11ms/step - loss: 0.0343 - mae: 0.1559 - val_loss: 0.0012 - val_mae: 0.0254 - learning_rate: 1.3115e-04\n",
            "Epoch 120/300\n",
            "\u001b[1m15/15\u001b[0m \u001b[32m━━━━━━━━━━━━━━━━━━━━\u001b[0m\u001b[37m\u001b[0m \u001b[1m0s\u001b[0m 11ms/step - loss: 0.0511 - mae: 0.1935 - val_loss: 0.0014 - val_mae: 0.0261 - learning_rate: 1.3115e-04\n",
            "Epoch 121/300\n",
            "\u001b[1m15/15\u001b[0m \u001b[32m━━━━━━━━━━━━━━━━━━━━\u001b[0m\u001b[37m\u001b[0m \u001b[1m0s\u001b[0m 14ms/step - loss: 0.0391 - mae: 0.1646 - val_loss: 0.0013 - val_mae: 0.0254 - learning_rate: 1.3115e-04\n"
          ]
        }
      ]
    },
    {
      "cell_type": "markdown",
      "source": [
        "Построим график для отслеживания средней абсолютной ошибки на обучающей и проверочной выборках:"
      ],
      "metadata": {
        "id": "l2caMy4rGFv7"
      }
    },
    {
      "cell_type": "code",
      "source": [
        "plt.plot(history.history['mae'], label='Средняя абсолютная ошибка на обучающем наборе')\n",
        "plt.plot(history.history['val_mae'], label='Средняя абсолютная ошибка на проверочном наборе')\n",
        "plt.xlabel('Эпоха обучения')\n",
        "plt.ylabel('Средняя абсолютная ошибка')\n",
        "plt.legend()\n",
        "plt.show()"
      ],
      "metadata": {
        "colab": {
          "base_uri": "https://localhost:8080/",
          "height": 452
        },
        "id": "zXFuNx1nacfX",
        "outputId": "f29ccc76-4563-4795-f190-320880d1b14a"
      },
      "execution_count": null,
      "outputs": [
        {
          "output_type": "display_data",
          "data": {
            "text/plain": [
              "<Figure size 640x480 with 1 Axes>"
            ],
            "image/png": "[encoded data removed]"
          },
          "metadata": {}
        }
      ]
    },
    {
      "cell_type": "markdown",
      "source": [
        "Выполним предсказание на валидационной выборке, реализуем обратное преобразование данных. Это делается для корректной оценки."
      ],
      "metadata": {
        "id": "QiTuhSuTGO76"
      }
    },
    {
      "cell_type": "code",
      "source": [
        "def safe_mape(y_true, y_pred):\n",
        "    y_true, y_pred = np.array(y_true), np.array(y_pred)\n",
        "    return 100 * np.mean(np.abs((y_true - y_pred) / (np.abs(y_true) + 1e-10))) #добавляем небольшое значение к знаменателю, чтобы избежать деления на ноль\n",
        "\n",
        "#предсказание на валидационной выборке вместо тестовой\n",
        "pred_val = best_model.predict(x_val_scaled)\n",
        "#обратное преобразование: сначала StandardScaler, затем expm1\n",
        "pred_val = y_scaler.inverse_transform(pred_val)\n",
        "pred_val = np.expm1(pred_val)\n",
        "y_val_original = np.expm1(y_val)\n",
        "\n",
        "mape_val = safe_mape(y_val_original, pred_val)\n",
        "val_mae = mean_absolute_error(y_val_original, pred_val)\n",
        "\n",
        "print(f\"\\nСредняя абсолютная процентная ошибка (MAPE) на валидационной выборке: {mape_val:.2f}%\")\n",
        "print(f\"\\nСредняя абсолютная ошибка (MAE) на валидационной выборке: {val_mae:.2f}\\n\")\n",
        "\n",
        "np.random.seed(42)\n",
        "random_indices = np.random.choice(len(y_val_original), size=100, replace=False)\n",
        "y_val_sample = y_val_original[random_indices]\n",
        "pred_val_sample = pred_val[random_indices]\n",
        "\n",
        "print(\"Примеры предсказаний на валидационной выборке (первые 10 из 100):\")\n",
        "for i in range(10):\n",
        "    print(f\"Реальное: {y_val_sample[i, 0]:10.2f} | Предсказанное: {pred_val_sample[i, 0]:10.2f} | Ошибка: {abs(y_val_sample[i, 0] - pred_val_sample[i, 0]):10.2f}\")\n",
        "\n",
        "plt.figure(figsize=(10, 8))\n",
        "plt.scatter(y_val_sample, pred_val_sample, alpha=0.6, label='Предсказания')\n",
        "plt.plot([y_val_sample.min(), y_val_sample.max()],\n",
        "         [y_val_sample.min(), y_val_sample.max()],\n",
        "         'r--', label='Идеальные предсказания')\n",
        "plt.xlabel('Реальные значения цены', fontsize=12)\n",
        "plt.ylabel('Предсказанные значения', fontsize=12)\n",
        "plt.title(f'Сравнение предсказаний на валидационной выборке (MAE = {val_mae:.2f}, MAPE = {mape_val:.2f}%)', fontsize=14)\n",
        "plt.legend(fontsize=12)\n",
        "plt.grid(True, linestyle='--', alpha=0.7)\n",
        "plt.tight_layout()\n",
        "plt.show()"
      ],
      "metadata": {
        "colab": {
          "base_uri": "https://localhost:8080/",
          "height": 1000
        },
        "id": "7bovTo_iXKlA",
        "outputId": "691c24d4-6e68-42ac-d401-17a4f9cb512c"
      },
      "execution_count": null,
      "outputs": [
        {
          "output_type": "stream",
          "name": "stdout",
          "text": [
            "\u001b[1m4/4\u001b[0m \u001b[32m━━━━━━━━━━━━━━━━━━━━\u001b[0m\u001b[37m\u001b[0m \u001b[1m0s\u001b[0m 79ms/step\n",
            "\n",
            "Средняя абсолютная процентная ошибка (MAPE) на валидационной выборке: 0.42%\n",
            "\n",
            "Средняя абсолютная ошибка (MAE) на валидационной выборке: 4.18\n",
            "\n",
            "Примеры предсказаний на валидационной выборке (первые 10 из 100):\n",
            "Реальное:    1213.00 | Предсказанное:    1211.27 | Ошибка:       1.73\n",
            "Реальное:     929.00 | Предсказанное:     921.67 | Ошибка:       7.33\n",
            "Реальное:     780.00 | Предсказанное:     779.59 | Ошибка:       0.41\n",
            "Реальное:     900.00 | Предсказанное:     895.79 | Ошибка:       4.21\n",
            "Реальное:     831.00 | Предсказанное:     831.62 | Ошибка:       0.62\n",
            "Реальное:     933.00 | Предсказанное:     930.39 | Ошибка:       2.61\n",
            "Реальное:    1236.00 | Предсказанное:    1239.73 | Ошибка:       3.73\n",
            "Реальное:     850.00 | Предсказанное:     855.24 | Ошибка:       5.24\n",
            "Реальное:    1050.00 | Предсказанное:    1054.60 | Ошибка:       4.60\n",
            "Реальное:    1200.00 | Предсказанное:    1197.91 | Ошибка:       2.09\n"
          ]
        },
        {
          "output_type": "display_data",
          "data": {
            "text/plain": [
              "<Figure size 1000x800 with 1 Axes>"
            ],
            "image/png": "[encoded data removed]"
          },
          "metadata": {}
        }
      ]
    }
  ]
}